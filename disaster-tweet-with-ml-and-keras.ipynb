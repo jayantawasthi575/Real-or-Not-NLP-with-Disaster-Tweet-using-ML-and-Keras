{
 "cells": [
  {
   "cell_type": "code",
   "execution_count": 1,
   "metadata": {
    "_cell_guid": "b1076dfc-b9ad-4769-8c92-a6c4dae69d19",
    "_uuid": "8f2839f25d086af736a60e9eeb907d3b93b6e0e5",
    "execution": {
     "iopub.execute_input": "2020-10-14T16:57:03.182180Z",
     "iopub.status.busy": "2020-10-14T16:57:03.181359Z",
     "iopub.status.idle": "2020-10-14T16:57:12.363634Z",
     "shell.execute_reply": "2020-10-14T16:57:12.364120Z"
    },
    "papermill": {
     "duration": 9.264561,
     "end_time": "2020-10-14T16:57:12.364320",
     "exception": false,
     "start_time": "2020-10-14T16:57:03.099759",
     "status": "completed"
    },
    "tags": []
   },
   "outputs": [
    {
     "name": "stdout",
     "output_type": "stream",
     "text": [
      "/kaggle/input/nlp-getting-started/train.csv\n",
      "/kaggle/input/nlp-getting-started/test.csv\n",
      "/kaggle/input/nlp-getting-started/sample_submission.csv\n"
     ]
    }
   ],
   "source": [
    "# This Python 3 environment comes with many helpful analytics libraries installed\n",
    "# It is defined by the kaggle/python Docker image: https://github.com/kaggle/docker-python\n",
    "# For example, here's several helpful packages to load\n",
    "%matplotlib inline\n",
    "import re\n",
    "import matplotlib.pyplot as plt\n",
    "import seaborn as sns\n",
    "import numpy as np # linear algebra\n",
    "import pandas as pd # data processing, CSV file I/O (e.g. pd.read_csv)\n",
    "from nltk.tokenize import TweetTokenizer\n",
    "from nltk.stem import WordNetLemmatizer\n",
    "from nltk.corpus import stopwords\n",
    "from nltk.stem import PorterStemmer\n",
    "from sklearn.feature_extraction.text import CountVectorizer\n",
    "from sklearn.feature_extraction.text import TfidfVectorizer\n",
    "from sklearn.model_selection import train_test_split\n",
    "from sklearn.feature_extraction.text import CountVectorizer\n",
    "from sklearn.feature_extraction.text import TfidfVectorizer\n",
    "from sklearn.model_selection import train_test_split\n",
    "from sklearn.ensemble import RandomForestClassifier\n",
    "from sklearn.model_selection import cross_val_score\n",
    "from sklearn.metrics import confusion_matrix\n",
    "from sklearn.model_selection import train_test_split\n",
    "\n",
    "import xgboost\n",
    "from tensorflow.keras.preprocessing.text import one_hot\n",
    "from tensorflow.keras.layers import Embedding\n",
    "from tensorflow.keras.preprocessing.sequence import pad_sequences\n",
    "from tensorflow.keras.models import Sequential\n",
    "from tensorflow.keras.models import Sequential\n",
    "from tensorflow.keras.layers import Dense,SpatialDropout1D\n",
    "from tensorflow.keras.layers import LSTM,Dropout\n",
    "from keras.layers import Bidirectional\n",
    "from tensorflow.keras.optimizers import RMSprop,Adam\n",
    "from sklearn.model_selection import RandomizedSearchCV\n",
    "from numpy import array\n",
    "# Input data files are available in the read-only \"../input/\" directory\n",
    "# For example, running this (by clicking run or pressing Shift+Enter) will list all files under the input directory\n",
    "\n",
    "import os\n",
    "for dirname, _, filenames in os.walk('/kaggle/input'):\n",
    "    for filename in filenames:\n",
    "        print(os.path.join(dirname, filename))\n",
    "\n",
    "# You can write up to 5GB to the current directory (/kaggle/working/) that gets preserved as output when you create a version using \"Save & Run All\" \n",
    "# You can also write temporary files to /kaggle/temp/, but they won't be saved outside of the current session"
   ]
  },
  {
   "cell_type": "code",
   "execution_count": 2,
   "metadata": {
    "_cell_guid": "79c7e3d0-c299-4dcb-8224-4455121ee9b0",
    "_uuid": "d629ff2d2480ee46fbb7e2d37f6b5fab8052498a",
    "execution": {
     "iopub.execute_input": "2020-10-14T16:57:12.489544Z",
     "iopub.status.busy": "2020-10-14T16:57:12.488924Z",
     "iopub.status.idle": "2020-10-14T16:57:12.536847Z",
     "shell.execute_reply": "2020-10-14T16:57:12.535811Z"
    },
    "papermill": {
     "duration": 0.111724,
     "end_time": "2020-10-14T16:57:12.536956",
     "exception": false,
     "start_time": "2020-10-14T16:57:12.425232",
     "status": "completed"
    },
    "tags": []
   },
   "outputs": [],
   "source": [
    "train=pd.read_csv(\"/kaggle/input/nlp-getting-started/train.csv\")\n",
    "test=pd.read_csv(\"/kaggle/input/nlp-getting-started/test.csv\")"
   ]
  },
  {
   "cell_type": "code",
   "execution_count": 3,
   "metadata": {
    "execution": {
     "iopub.execute_input": "2020-10-14T16:57:12.671396Z",
     "iopub.status.busy": "2020-10-14T16:57:12.670668Z",
     "iopub.status.idle": "2020-10-14T16:57:12.679645Z",
     "shell.execute_reply": "2020-10-14T16:57:12.680354Z"
    },
    "papermill": {
     "duration": 0.08364,
     "end_time": "2020-10-14T16:57:12.680479",
     "exception": false,
     "start_time": "2020-10-14T16:57:12.596839",
     "status": "completed"
    },
    "tags": []
   },
   "outputs": [
    {
     "data": {
      "text/html": [
       "<div>\n",
       "<style scoped>\n",
       "    .dataframe tbody tr th:only-of-type {\n",
       "        vertical-align: middle;\n",
       "    }\n",
       "\n",
       "    .dataframe tbody tr th {\n",
       "        vertical-align: top;\n",
       "    }\n",
       "\n",
       "    .dataframe thead th {\n",
       "        text-align: right;\n",
       "    }\n",
       "</style>\n",
       "<table border=\"1\" class=\"dataframe\">\n",
       "  <thead>\n",
       "    <tr style=\"text-align: right;\">\n",
       "      <th></th>\n",
       "      <th>id</th>\n",
       "      <th>keyword</th>\n",
       "      <th>location</th>\n",
       "      <th>text</th>\n",
       "      <th>target</th>\n",
       "    </tr>\n",
       "  </thead>\n",
       "  <tbody>\n",
       "    <tr>\n",
       "      <th>0</th>\n",
       "      <td>1</td>\n",
       "      <td>NaN</td>\n",
       "      <td>NaN</td>\n",
       "      <td>Our Deeds are the Reason of this #earthquake M...</td>\n",
       "      <td>1</td>\n",
       "    </tr>\n",
       "    <tr>\n",
       "      <th>1</th>\n",
       "      <td>4</td>\n",
       "      <td>NaN</td>\n",
       "      <td>NaN</td>\n",
       "      <td>Forest fire near La Ronge Sask. Canada</td>\n",
       "      <td>1</td>\n",
       "    </tr>\n",
       "    <tr>\n",
       "      <th>2</th>\n",
       "      <td>5</td>\n",
       "      <td>NaN</td>\n",
       "      <td>NaN</td>\n",
       "      <td>All residents asked to 'shelter in place' are ...</td>\n",
       "      <td>1</td>\n",
       "    </tr>\n",
       "    <tr>\n",
       "      <th>3</th>\n",
       "      <td>6</td>\n",
       "      <td>NaN</td>\n",
       "      <td>NaN</td>\n",
       "      <td>13,000 people receive #wildfires evacuation or...</td>\n",
       "      <td>1</td>\n",
       "    </tr>\n",
       "    <tr>\n",
       "      <th>4</th>\n",
       "      <td>7</td>\n",
       "      <td>NaN</td>\n",
       "      <td>NaN</td>\n",
       "      <td>Just got sent this photo from Ruby #Alaska as ...</td>\n",
       "      <td>1</td>\n",
       "    </tr>\n",
       "  </tbody>\n",
       "</table>\n",
       "</div>"
      ],
      "text/plain": [
       "   id keyword location                                               text  \\\n",
       "0   1     NaN      NaN  Our Deeds are the Reason of this #earthquake M...   \n",
       "1   4     NaN      NaN             Forest fire near La Ronge Sask. Canada   \n",
       "2   5     NaN      NaN  All residents asked to 'shelter in place' are ...   \n",
       "3   6     NaN      NaN  13,000 people receive #wildfires evacuation or...   \n",
       "4   7     NaN      NaN  Just got sent this photo from Ruby #Alaska as ...   \n",
       "\n",
       "   target  \n",
       "0       1  \n",
       "1       1  \n",
       "2       1  \n",
       "3       1  \n",
       "4       1  "
      ]
     },
     "execution_count": 3,
     "metadata": {},
     "output_type": "execute_result"
    }
   ],
   "source": [
    "train.head()"
   ]
  },
  {
   "cell_type": "code",
   "execution_count": 4,
   "metadata": {
    "execution": {
     "iopub.execute_input": "2020-10-14T16:57:12.806718Z",
     "iopub.status.busy": "2020-10-14T16:57:12.805836Z",
     "iopub.status.idle": "2020-10-14T16:57:12.809956Z",
     "shell.execute_reply": "2020-10-14T16:57:12.809434Z"
    },
    "papermill": {
     "duration": 0.071528,
     "end_time": "2020-10-14T16:57:12.810071",
     "exception": false,
     "start_time": "2020-10-14T16:57:12.738543",
     "status": "completed"
    },
    "tags": []
   },
   "outputs": [
    {
     "data": {
      "text/html": [
       "<div>\n",
       "<style scoped>\n",
       "    .dataframe tbody tr th:only-of-type {\n",
       "        vertical-align: middle;\n",
       "    }\n",
       "\n",
       "    .dataframe tbody tr th {\n",
       "        vertical-align: top;\n",
       "    }\n",
       "\n",
       "    .dataframe thead th {\n",
       "        text-align: right;\n",
       "    }\n",
       "</style>\n",
       "<table border=\"1\" class=\"dataframe\">\n",
       "  <thead>\n",
       "    <tr style=\"text-align: right;\">\n",
       "      <th></th>\n",
       "      <th>id</th>\n",
       "      <th>keyword</th>\n",
       "      <th>location</th>\n",
       "      <th>text</th>\n",
       "    </tr>\n",
       "  </thead>\n",
       "  <tbody>\n",
       "    <tr>\n",
       "      <th>0</th>\n",
       "      <td>0</td>\n",
       "      <td>NaN</td>\n",
       "      <td>NaN</td>\n",
       "      <td>Just happened a terrible car crash</td>\n",
       "    </tr>\n",
       "    <tr>\n",
       "      <th>1</th>\n",
       "      <td>2</td>\n",
       "      <td>NaN</td>\n",
       "      <td>NaN</td>\n",
       "      <td>Heard about #earthquake is different cities, s...</td>\n",
       "    </tr>\n",
       "    <tr>\n",
       "      <th>2</th>\n",
       "      <td>3</td>\n",
       "      <td>NaN</td>\n",
       "      <td>NaN</td>\n",
       "      <td>there is a forest fire at spot pond, geese are...</td>\n",
       "    </tr>\n",
       "    <tr>\n",
       "      <th>3</th>\n",
       "      <td>9</td>\n",
       "      <td>NaN</td>\n",
       "      <td>NaN</td>\n",
       "      <td>Apocalypse lighting. #Spokane #wildfires</td>\n",
       "    </tr>\n",
       "    <tr>\n",
       "      <th>4</th>\n",
       "      <td>11</td>\n",
       "      <td>NaN</td>\n",
       "      <td>NaN</td>\n",
       "      <td>Typhoon Soudelor kills 28 in China and Taiwan</td>\n",
       "    </tr>\n",
       "  </tbody>\n",
       "</table>\n",
       "</div>"
      ],
      "text/plain": [
       "   id keyword location                                               text\n",
       "0   0     NaN      NaN                 Just happened a terrible car crash\n",
       "1   2     NaN      NaN  Heard about #earthquake is different cities, s...\n",
       "2   3     NaN      NaN  there is a forest fire at spot pond, geese are...\n",
       "3   9     NaN      NaN           Apocalypse lighting. #Spokane #wildfires\n",
       "4  11     NaN      NaN      Typhoon Soudelor kills 28 in China and Taiwan"
      ]
     },
     "execution_count": 4,
     "metadata": {},
     "output_type": "execute_result"
    }
   ],
   "source": [
    "test.head()"
   ]
  },
  {
   "cell_type": "code",
   "execution_count": 5,
   "metadata": {
    "execution": {
     "iopub.execute_input": "2020-10-14T16:57:12.940327Z",
     "iopub.status.busy": "2020-10-14T16:57:12.939527Z",
     "iopub.status.idle": "2020-10-14T16:57:12.942560Z",
     "shell.execute_reply": "2020-10-14T16:57:12.943117Z"
    },
    "papermill": {
     "duration": 0.072474,
     "end_time": "2020-10-14T16:57:12.943233",
     "exception": false,
     "start_time": "2020-10-14T16:57:12.870759",
     "status": "completed"
    },
    "tags": []
   },
   "outputs": [
    {
     "data": {
      "text/plain": [
       "0    4342\n",
       "1    3271\n",
       "Name: target, dtype: int64"
      ]
     },
     "execution_count": 5,
     "metadata": {},
     "output_type": "execute_result"
    }
   ],
   "source": [
    "train[\"target\"].value_counts()"
   ]
  },
  {
   "cell_type": "code",
   "execution_count": 6,
   "metadata": {
    "execution": {
     "iopub.execute_input": "2020-10-14T16:57:13.070736Z",
     "iopub.status.busy": "2020-10-14T16:57:13.069807Z",
     "iopub.status.idle": "2020-10-14T16:57:13.232696Z",
     "shell.execute_reply": "2020-10-14T16:57:13.233320Z"
    },
    "papermill": {
     "duration": 0.229112,
     "end_time": "2020-10-14T16:57:13.233480",
     "exception": false,
     "start_time": "2020-10-14T16:57:13.004368",
     "status": "completed"
    },
    "tags": []
   },
   "outputs": [
    {
     "data": {
      "text/plain": [
       "<matplotlib.axes._subplots.AxesSubplot at 0x7fe62f003210>"
      ]
     },
     "execution_count": 6,
     "metadata": {},
     "output_type": "execute_result"
    },
    {
     "data": {
      "image/png": "[encoded data removed]",
      "text/plain": [
       "<Figure size 432x288 with 1 Axes>"
      ]
     },
     "metadata": {
      "needs_background": "light"
     },
     "output_type": "display_data"
    }
   ],
   "source": [
    "sns.countplot(\"target\",data=train)"
   ]
  },
  {
   "cell_type": "markdown",
   "metadata": {
    "papermill": {
     "duration": 0.067596,
     "end_time": "2020-10-14T16:57:13.370133",
     "exception": false,
     "start_time": "2020-10-14T16:57:13.302537",
     "status": "completed"
    },
    "tags": []
   },
   "source": [
    "# DATA PREPROCESSING"
   ]
  },
  {
   "cell_type": "markdown",
   "metadata": {
    "papermill": {
     "duration": 0.067956,
     "end_time": "2020-10-14T16:57:13.507040",
     "exception": false,
     "start_time": "2020-10-14T16:57:13.439084",
     "status": "completed"
    },
    "tags": []
   },
   "source": [
    "Let initiliaze our stemmer and tokenizer and do some data processing"
   ]
  },
  {
   "cell_type": "code",
   "execution_count": 7,
   "metadata": {
    "execution": {
     "iopub.execute_input": "2020-10-14T16:57:13.652115Z",
     "iopub.status.busy": "2020-10-14T16:57:13.651170Z",
     "iopub.status.idle": "2020-10-14T16:57:13.654388Z",
     "shell.execute_reply": "2020-10-14T16:57:13.653903Z"
    },
    "papermill": {
     "duration": 0.07636,
     "end_time": "2020-10-14T16:57:13.654485",
     "exception": false,
     "start_time": "2020-10-14T16:57:13.578125",
     "status": "completed"
    },
    "tags": []
   },
   "outputs": [],
   "source": [
    "tweettoken = TweetTokenizer(strip_handles=True, reduce_len=True)"
   ]
  },
  {
   "cell_type": "code",
   "execution_count": 8,
   "metadata": {
    "execution": {
     "iopub.execute_input": "2020-10-14T16:57:13.795548Z",
     "iopub.status.busy": "2020-10-14T16:57:13.794606Z",
     "iopub.status.idle": "2020-10-14T16:57:13.797192Z",
     "shell.execute_reply": "2020-10-14T16:57:13.797852Z"
    },
    "papermill": {
     "duration": 0.076141,
     "end_time": "2020-10-14T16:57:13.797977",
     "exception": false,
     "start_time": "2020-10-14T16:57:13.721836",
     "status": "completed"
    },
    "tags": []
   },
   "outputs": [],
   "source": [
    "stemmer=PorterStemmer()"
   ]
  },
  {
   "cell_type": "code",
   "execution_count": 9,
   "metadata": {
    "execution": {
     "iopub.execute_input": "2020-10-14T16:57:13.946389Z",
     "iopub.status.busy": "2020-10-14T16:57:13.945307Z",
     "iopub.status.idle": "2020-10-14T16:57:13.948184Z",
     "shell.execute_reply": "2020-10-14T16:57:13.948768Z"
    },
    "papermill": {
     "duration": 0.080646,
     "end_time": "2020-10-14T16:57:13.948908",
     "exception": false,
     "start_time": "2020-10-14T16:57:13.868262",
     "status": "completed"
    },
    "tags": []
   },
   "outputs": [],
   "source": [
    "collect=[]\n",
    "collecttest=[]\n",
    "def preprocess(t,kpc):\n",
    "    tee=re.sub('[^a-zA-Z]',\" \",t)\n",
    "    tee=tee.lower()\n",
    "    res=tweettoken.tokenize(tee)\n",
    "    for i in res:\n",
    "        if i in stopwords.words('english'):\n",
    "            res.remove(i)\n",
    "    rest=[]\n",
    "    for k in res:\n",
    "        rest.append(stemmer.stem(k))\n",
    "    ret=\" \".join(rest)\n",
    "    if kpc==1:\n",
    "        collect.append(ret)\n",
    "    elif kpc==0:\n",
    "        collecttest.append(ret)"
   ]
  },
  {
   "cell_type": "code",
   "execution_count": 10,
   "metadata": {
    "execution": {
     "iopub.execute_input": "2020-10-14T16:57:14.100128Z",
     "iopub.status.busy": "2020-10-14T16:57:14.099217Z",
     "iopub.status.idle": "2020-10-14T16:57:14.103275Z",
     "shell.execute_reply": "2020-10-14T16:57:14.103989Z"
    },
    "papermill": {
     "duration": 0.086506,
     "end_time": "2020-10-14T16:57:14.104159",
     "exception": false,
     "start_time": "2020-10-14T16:57:14.017653",
     "status": "completed"
    },
    "tags": []
   },
   "outputs": [],
   "source": [
    "def splitpro(t,q,m):\n",
    "         for j in range(q):\n",
    "                 preprocess(t[\"text\"].iloc[j],m)"
   ]
  },
  {
   "cell_type": "code",
   "execution_count": 11,
   "metadata": {
    "execution": {
     "iopub.execute_input": "2020-10-14T16:57:14.236368Z",
     "iopub.status.busy": "2020-10-14T16:57:14.235442Z",
     "iopub.status.idle": "2020-10-14T16:57:14.239145Z",
     "shell.execute_reply": "2020-10-14T16:57:14.239788Z"
    },
    "papermill": {
     "duration": 0.070308,
     "end_time": "2020-10-14T16:57:14.239909",
     "exception": false,
     "start_time": "2020-10-14T16:57:14.169601",
     "status": "completed"
    },
    "tags": []
   },
   "outputs": [
    {
     "data": {
      "text/plain": [
       "7613"
      ]
     },
     "execution_count": 11,
     "metadata": {},
     "output_type": "execute_result"
    }
   ],
   "source": [
    "len(train)"
   ]
  },
  {
   "cell_type": "code",
   "execution_count": 12,
   "metadata": {
    "execution": {
     "iopub.execute_input": "2020-10-14T16:57:14.370259Z",
     "iopub.status.busy": "2020-10-14T16:57:14.369414Z",
     "iopub.status.idle": "2020-10-14T16:57:14.373161Z",
     "shell.execute_reply": "2020-10-14T16:57:14.373735Z"
    },
    "papermill": {
     "duration": 0.071139,
     "end_time": "2020-10-14T16:57:14.373856",
     "exception": false,
     "start_time": "2020-10-14T16:57:14.302717",
     "status": "completed"
    },
    "tags": []
   },
   "outputs": [
    {
     "data": {
      "text/plain": [
       "3263"
      ]
     },
     "execution_count": 12,
     "metadata": {},
     "output_type": "execute_result"
    }
   ],
   "source": [
    "len(test)"
   ]
  },
  {
   "cell_type": "code",
   "execution_count": 13,
   "metadata": {
    "execution": {
     "iopub.execute_input": "2020-10-14T16:57:14.506328Z",
     "iopub.status.busy": "2020-10-14T16:57:14.505626Z",
     "iopub.status.idle": "2020-10-14T16:57:34.709210Z",
     "shell.execute_reply": "2020-10-14T16:57:34.708096Z"
    },
    "papermill": {
     "duration": 20.27249,
     "end_time": "2020-10-14T16:57:34.709406",
     "exception": false,
     "start_time": "2020-10-14T16:57:14.436916",
     "status": "completed"
    },
    "tags": []
   },
   "outputs": [],
   "source": [
    "splitpro(train,7613,1)"
   ]
  },
  {
   "cell_type": "code",
   "execution_count": 14,
   "metadata": {
    "execution": {
     "iopub.execute_input": "2020-10-14T16:57:34.842391Z",
     "iopub.status.busy": "2020-10-14T16:57:34.840760Z",
     "iopub.status.idle": "2020-10-14T16:57:43.438986Z",
     "shell.execute_reply": "2020-10-14T16:57:43.437778Z"
    },
    "papermill": {
     "duration": 8.666233,
     "end_time": "2020-10-14T16:57:43.439118",
     "exception": false,
     "start_time": "2020-10-14T16:57:34.772885",
     "status": "completed"
    },
    "tags": []
   },
   "outputs": [],
   "source": [
    "splitpro(test,3263,0)"
   ]
  },
  {
   "cell_type": "code",
   "execution_count": 15,
   "metadata": {
    "execution": {
     "iopub.execute_input": "2020-10-14T16:57:43.586950Z",
     "iopub.status.busy": "2020-10-14T16:57:43.586082Z",
     "iopub.status.idle": "2020-10-14T16:57:43.589934Z",
     "shell.execute_reply": "2020-10-14T16:57:43.590494Z"
    },
    "papermill": {
     "duration": 0.078649,
     "end_time": "2020-10-14T16:57:43.590623",
     "exception": false,
     "start_time": "2020-10-14T16:57:43.511974",
     "status": "completed"
    },
    "tags": []
   },
   "outputs": [
    {
     "data": {
      "text/plain": [
       "7613"
      ]
     },
     "execution_count": 15,
     "metadata": {},
     "output_type": "execute_result"
    }
   ],
   "source": [
    "len(collect)"
   ]
  },
  {
   "cell_type": "code",
   "execution_count": 16,
   "metadata": {
    "execution": {
     "iopub.execute_input": "2020-10-14T16:57:43.724428Z",
     "iopub.status.busy": "2020-10-14T16:57:43.723389Z",
     "iopub.status.idle": "2020-10-14T16:57:43.727954Z",
     "shell.execute_reply": "2020-10-14T16:57:43.728459Z"
    },
    "papermill": {
     "duration": 0.073646,
     "end_time": "2020-10-14T16:57:43.728590",
     "exception": false,
     "start_time": "2020-10-14T16:57:43.654944",
     "status": "completed"
    },
    "tags": []
   },
   "outputs": [
    {
     "data": {
      "text/plain": [
       "3263"
      ]
     },
     "execution_count": 16,
     "metadata": {},
     "output_type": "execute_result"
    }
   ],
   "source": [
    "len(collecttest)"
   ]
  },
  {
   "cell_type": "code",
   "execution_count": 17,
   "metadata": {
    "execution": {
     "iopub.execute_input": "2020-10-14T16:57:43.868024Z",
     "iopub.status.busy": "2020-10-14T16:57:43.867326Z",
     "iopub.status.idle": "2020-10-14T16:57:43.874086Z",
     "shell.execute_reply": "2020-10-14T16:57:43.873587Z"
    },
    "papermill": {
     "duration": 0.080314,
     "end_time": "2020-10-14T16:57:43.874191",
     "exception": false,
     "start_time": "2020-10-14T16:57:43.793877",
     "status": "completed"
    },
    "tags": []
   },
   "outputs": [
    {
     "data": {
      "text/plain": [
       "['deed the reason thi earthquak may allah forgiv us',\n",
       " 'forest fire near la rong sask canada',\n",
       " 'resid ask shelter place be notifi offic other evacu shelter place order expect',\n",
       " 'peopl receiv wildfir evacu order california',\n",
       " 'got sent photo rubi alaska smoke wildfir pour a school']"
      ]
     },
     "execution_count": 17,
     "metadata": {},
     "output_type": "execute_result"
    }
   ],
   "source": [
    "collect[:5]"
   ]
  },
  {
   "cell_type": "code",
   "execution_count": 18,
   "metadata": {
    "execution": {
     "iopub.execute_input": "2020-10-14T16:57:44.016139Z",
     "iopub.status.busy": "2020-10-14T16:57:44.015151Z",
     "iopub.status.idle": "2020-10-14T16:57:44.019719Z",
     "shell.execute_reply": "2020-10-14T16:57:44.020200Z"
    },
    "papermill": {
     "duration": 0.078784,
     "end_time": "2020-10-14T16:57:44.020350",
     "exception": false,
     "start_time": "2020-10-14T16:57:43.941566",
     "status": "completed"
    },
    "tags": []
   },
   "outputs": [
    {
     "data": {
      "text/plain": [
       "['happen terribl car crash',\n",
       " 'heard earthquak differ citi stay safe everyon',\n",
       " 'is forest fire spot pond gees flee across street cannot save all',\n",
       " 'apocalyps light spokan wildfir',\n",
       " 'typhoon soudelor kill china taiwan']"
      ]
     },
     "execution_count": 18,
     "metadata": {},
     "output_type": "execute_result"
    }
   ],
   "source": [
    "collecttest[:5]"
   ]
  },
  {
   "cell_type": "code",
   "execution_count": 19,
   "metadata": {
    "execution": {
     "iopub.execute_input": "2020-10-14T16:57:44.159570Z",
     "iopub.status.busy": "2020-10-14T16:57:44.158690Z",
     "iopub.status.idle": "2020-10-14T16:57:44.161969Z",
     "shell.execute_reply": "2020-10-14T16:57:44.161358Z"
    },
    "papermill": {
     "duration": 0.073591,
     "end_time": "2020-10-14T16:57:44.162059",
     "exception": false,
     "start_time": "2020-10-14T16:57:44.088468",
     "status": "completed"
    },
    "tags": []
   },
   "outputs": [],
   "source": [
    "val=train[\"target\"].values"
   ]
  },
  {
   "cell_type": "code",
   "execution_count": 20,
   "metadata": {
    "execution": {
     "iopub.execute_input": "2020-10-14T16:57:44.301702Z",
     "iopub.status.busy": "2020-10-14T16:57:44.300948Z",
     "iopub.status.idle": "2020-10-14T16:57:44.304448Z",
     "shell.execute_reply": "2020-10-14T16:57:44.304976Z"
    },
    "papermill": {
     "duration": 0.076401,
     "end_time": "2020-10-14T16:57:44.305093",
     "exception": false,
     "start_time": "2020-10-14T16:57:44.228692",
     "status": "completed"
    },
    "tags": []
   },
   "outputs": [
    {
     "data": {
      "text/plain": [
       "array([1, 1, 1, ..., 1, 1, 1])"
      ]
     },
     "execution_count": 20,
     "metadata": {},
     "output_type": "execute_result"
    }
   ],
   "source": [
    "val"
   ]
  },
  {
   "cell_type": "markdown",
   "metadata": {
    "papermill": {
     "duration": 0.067019,
     "end_time": "2020-10-14T16:57:44.440131",
     "exception": false,
     "start_time": "2020-10-14T16:57:44.373112",
     "status": "completed"
    },
    "tags": []
   },
   "source": [
    "# GOING FORWARD WITH ML ALGORITHMS"
   ]
  },
  {
   "cell_type": "code",
   "execution_count": 21,
   "metadata": {
    "execution": {
     "iopub.execute_input": "2020-10-14T16:57:44.578095Z",
     "iopub.status.busy": "2020-10-14T16:57:44.577123Z",
     "iopub.status.idle": "2020-10-14T16:57:44.580406Z",
     "shell.execute_reply": "2020-10-14T16:57:44.579904Z"
    },
    "papermill": {
     "duration": 0.074019,
     "end_time": "2020-10-14T16:57:44.580505",
     "exception": false,
     "start_time": "2020-10-14T16:57:44.506486",
     "status": "completed"
    },
    "tags": []
   },
   "outputs": [],
   "source": [
    "def tfidf(xx):\n",
    "    cv=TfidfVectorizer(max_features=200)\n",
    "    x=cv.fit_transform(xx).toarray()\n",
    "    return x"
   ]
  },
  {
   "cell_type": "code",
   "execution_count": 22,
   "metadata": {
    "execution": {
     "iopub.execute_input": "2020-10-14T16:57:44.730491Z",
     "iopub.status.busy": "2020-10-14T16:57:44.725171Z",
     "iopub.status.idle": "2020-10-14T16:57:44.946041Z",
     "shell.execute_reply": "2020-10-14T16:57:44.945488Z"
    },
    "papermill": {
     "duration": 0.297085,
     "end_time": "2020-10-14T16:57:44.946178",
     "exception": false,
     "start_time": "2020-10-14T16:57:44.649093",
     "status": "completed"
    },
    "tags": []
   },
   "outputs": [],
   "source": [
    "y=tfidf(collect)"
   ]
  },
  {
   "cell_type": "code",
   "execution_count": 23,
   "metadata": {
    "execution": {
     "iopub.execute_input": "2020-10-14T16:57:45.104651Z",
     "iopub.status.busy": "2020-10-14T16:57:45.103627Z",
     "iopub.status.idle": "2020-10-14T16:57:45.107741Z",
     "shell.execute_reply": "2020-10-14T16:57:45.108376Z"
    },
    "papermill": {
     "duration": 0.088901,
     "end_time": "2020-10-14T16:57:45.108527",
     "exception": false,
     "start_time": "2020-10-14T16:57:45.019626",
     "status": "completed"
    },
    "tags": []
   },
   "outputs": [
    {
     "data": {
      "text/plain": [
       "array([0.        , 0.        , 0.        , 0.        , 0.        ,\n",
       "       0.        , 0.        , 0.        , 0.        , 0.        ,\n",
       "       0.        , 0.        , 0.        , 0.        , 0.        ,\n",
       "       0.        , 0.        , 0.        , 0.        , 0.        ,\n",
       "       0.        , 0.        , 0.        , 0.        , 0.        ,\n",
       "       0.        , 0.        , 0.        , 0.        , 0.        ,\n",
       "       0.        , 0.        , 0.        , 0.        , 0.        ,\n",
       "       0.        , 0.        , 0.        , 0.        , 0.        ,\n",
       "       0.        , 0.        , 0.        , 0.        , 0.        ,\n",
       "       0.        , 0.        , 0.        , 0.        , 0.        ,\n",
       "       0.        , 0.        , 0.        , 0.        , 0.        ,\n",
       "       0.        , 0.        , 0.        , 0.        , 0.        ,\n",
       "       0.        , 0.        , 0.        , 0.        , 0.        ,\n",
       "       0.        , 0.        , 0.        , 0.        , 0.        ,\n",
       "       0.        , 0.        , 0.        , 0.        , 0.        ,\n",
       "       0.        , 0.        , 0.        , 0.        , 0.        ,\n",
       "       0.        , 0.        , 0.        , 0.        , 0.        ,\n",
       "       0.        , 0.        , 0.        , 0.        , 0.        ,\n",
       "       0.        , 0.        , 0.        , 0.        , 0.        ,\n",
       "       0.        , 0.        , 0.        , 0.        , 0.        ,\n",
       "       0.        , 0.        , 0.        , 0.        , 0.        ,\n",
       "       0.        , 0.        , 0.        , 0.57785903, 0.        ,\n",
       "       0.        , 0.        , 0.        , 0.        , 0.        ,\n",
       "       0.        , 0.        , 0.        , 0.        , 0.        ,\n",
       "       0.        , 0.        , 0.        , 0.        , 0.        ,\n",
       "       0.        , 0.        , 0.        , 0.        , 0.        ,\n",
       "       0.        , 0.        , 0.        , 0.        , 0.        ,\n",
       "       0.        , 0.        , 0.        , 0.        , 0.        ,\n",
       "       0.        , 0.        , 0.        , 0.        , 0.        ,\n",
       "       0.        , 0.        , 0.        , 0.        , 0.        ,\n",
       "       0.        , 0.        , 0.        , 0.        , 0.        ,\n",
       "       0.        , 0.        , 0.        , 0.        , 0.        ,\n",
       "       0.        , 0.        , 0.        , 0.28834839, 0.        ,\n",
       "       0.        , 0.54071617, 0.        , 0.        , 0.        ,\n",
       "       0.        , 0.        , 0.        , 0.        , 0.        ,\n",
       "       0.53903634, 0.        , 0.        , 0.        , 0.        ,\n",
       "       0.        , 0.        , 0.        , 0.        , 0.        ,\n",
       "       0.        , 0.        , 0.        , 0.        , 0.        ,\n",
       "       0.        , 0.        , 0.        , 0.        , 0.        ,\n",
       "       0.        , 0.        , 0.        , 0.        , 0.        ])"
      ]
     },
     "execution_count": 23,
     "metadata": {},
     "output_type": "execute_result"
    }
   ],
   "source": [
    "y[0]"
   ]
  },
  {
   "cell_type": "code",
   "execution_count": 24,
   "metadata": {
    "execution": {
     "iopub.execute_input": "2020-10-14T16:57:45.291511Z",
     "iopub.status.busy": "2020-10-14T16:57:45.290533Z",
     "iopub.status.idle": "2020-10-14T16:57:45.294431Z",
     "shell.execute_reply": "2020-10-14T16:57:45.294938Z"
    },
    "papermill": {
     "duration": 0.097585,
     "end_time": "2020-10-14T16:57:45.295080",
     "exception": false,
     "start_time": "2020-10-14T16:57:45.197495",
     "status": "completed"
    },
    "tags": []
   },
   "outputs": [
    {
     "data": {
      "text/plain": [
       "200"
      ]
     },
     "execution_count": 24,
     "metadata": {},
     "output_type": "execute_result"
    }
   ],
   "source": [
    "len(y[0][:])"
   ]
  },
  {
   "cell_type": "code",
   "execution_count": 25,
   "metadata": {
    "execution": {
     "iopub.execute_input": "2020-10-14T16:57:45.456988Z",
     "iopub.status.busy": "2020-10-14T16:57:45.455707Z",
     "iopub.status.idle": "2020-10-14T16:57:45.464078Z",
     "shell.execute_reply": "2020-10-14T16:57:45.463529Z"
    },
    "papermill": {
     "duration": 0.091542,
     "end_time": "2020-10-14T16:57:45.464200",
     "exception": false,
     "start_time": "2020-10-14T16:57:45.372658",
     "status": "completed"
    },
    "tags": []
   },
   "outputs": [],
   "source": [
    "(x_train,x_test,y_train,y_test) = train_test_split(y,val, train_size=0.80, random_state=42)"
   ]
  },
  {
   "cell_type": "code",
   "execution_count": 26,
   "metadata": {
    "execution": {
     "iopub.execute_input": "2020-10-14T16:57:45.625342Z",
     "iopub.status.busy": "2020-10-14T16:57:45.624070Z",
     "iopub.status.idle": "2020-10-14T16:57:51.151142Z",
     "shell.execute_reply": "2020-10-14T16:57:51.150642Z"
    },
    "papermill": {
     "duration": 5.609066,
     "end_time": "2020-10-14T16:57:51.151276",
     "exception": false,
     "start_time": "2020-10-14T16:57:45.542210",
     "status": "completed"
    },
    "tags": []
   },
   "outputs": [
    {
     "data": {
      "text/plain": [
       "0.7413000656598818"
      ]
     },
     "execution_count": 26,
     "metadata": {},
     "output_type": "execute_result"
    }
   ],
   "source": [
    "rnd_clf=RandomForestClassifier(n_estimators=200,random_state=42)\n",
    "rnd_clf.fit(x_train,y_train)\n",
    "rnd_clf.score(x_test,y_test)\n"
   ]
  },
  {
   "cell_type": "code",
   "execution_count": 27,
   "metadata": {
    "execution": {
     "iopub.execute_input": "2020-10-14T16:57:51.349744Z",
     "iopub.status.busy": "2020-10-14T16:57:51.348789Z",
     "iopub.status.idle": "2020-10-14T16:59:57.890795Z",
     "shell.execute_reply": "2020-10-14T16:59:57.887137Z"
    },
    "papermill": {
     "duration": 126.660212,
     "end_time": "2020-10-14T16:59:57.890952",
     "exception": false,
     "start_time": "2020-10-14T16:57:51.230740",
     "status": "completed"
    },
    "tags": []
   },
   "outputs": [
    {
     "name": "stdout",
     "output_type": "stream",
     "text": [
      "0.7393302692055155\n",
      "****************************************\n",
      "0.7406434668417596\n",
      "****************************************\n",
      "0.7426132632961261\n",
      "****************************************\n",
      "0.7406434668417596\n",
      "****************************************\n",
      "0.7413000656598818\n",
      "****************************************\n",
      "0.7380170715692712\n",
      "****************************************\n",
      "0.7399868680236376\n",
      "****************************************\n"
     ]
    }
   ],
   "source": [
    "m=[300,400,500,600,700,800,900]\n",
    "for i in m:\n",
    "    rnd_clf=RandomForestClassifier(n_estimators=i,random_state=42)\n",
    "    rnd_clf.fit(x_train,y_train)\n",
    "    t=rnd_clf.score(x_test,y_test)\n",
    "    print(t)\n",
    "    print(\"*\"*40)"
   ]
  },
  {
   "cell_type": "code",
   "execution_count": 28,
   "metadata": {
    "execution": {
     "iopub.execute_input": "2020-10-14T16:59:58.070870Z",
     "iopub.status.busy": "2020-10-14T16:59:58.069762Z",
     "iopub.status.idle": "2020-10-14T17:01:12.664382Z",
     "shell.execute_reply": "2020-10-14T17:01:12.663748Z"
    },
    "papermill": {
     "duration": 74.686447,
     "end_time": "2020-10-14T17:01:12.664520",
     "exception": false,
     "start_time": "2020-10-14T16:59:57.978073",
     "status": "completed"
    },
    "tags": []
   },
   "outputs": [
    {
     "name": "stdout",
     "output_type": "stream",
     "text": [
      "0.7419566644780039\n",
      "****************************************\n",
      "0.7413000656598818\n",
      "****************************************\n",
      "0.7432698621142482\n",
      "****************************************\n",
      "0.7445830597504924\n",
      "****************************************\n",
      "0.7419566644780039\n",
      "****************************************\n",
      "0.7406434668417596\n",
      "****************************************\n",
      "0.7393302692055155\n",
      "****************************************\n",
      "0.7406434668417596\n",
      "****************************************\n",
      "0.7399868680236376\n",
      "****************************************\n"
     ]
    }
   ],
   "source": [
    "mln=[90,95,100,110,120,130,140,145,150]\n",
    "for i in mln:\n",
    "        rnd_clf=RandomForestClassifier(n_estimators=500,max_leaf_nodes=i,random_state=42)\n",
    "        rnd_clf.fit(x_train,y_train)\n",
    "        t=rnd_clf.score(x_test,y_test)\n",
    "        print(t)\n",
    "        print(\"*\"*40)"
   ]
  },
  {
   "cell_type": "code",
   "execution_count": 29,
   "metadata": {
    "execution": {
     "iopub.execute_input": "2020-10-14T17:01:12.876163Z",
     "iopub.status.busy": "2020-10-14T17:01:12.875466Z",
     "iopub.status.idle": "2020-10-14T17:01:12.897060Z",
     "shell.execute_reply": "2020-10-14T17:01:12.897650Z"
    },
    "papermill": {
     "duration": 0.129255,
     "end_time": "2020-10-14T17:01:12.897795",
     "exception": false,
     "start_time": "2020-10-14T17:01:12.768540",
     "status": "completed"
    },
    "tags": []
   },
   "outputs": [
    {
     "data": {
      "text/plain": [
       "0.7408866995073892"
      ]
     },
     "execution_count": 29,
     "metadata": {},
     "output_type": "execute_result"
    }
   ],
   "source": [
    "from sklearn.naive_bayes import MultinomialNB\n",
    "clf = MultinomialNB()\n",
    "clf.fit(x_train,y_train)\n",
    "clf.score(x_train,y_train)\n",
    "\n",
    "\n"
   ]
  },
  {
   "cell_type": "code",
   "execution_count": 30,
   "metadata": {
    "execution": {
     "iopub.execute_input": "2020-10-14T17:01:13.117800Z",
     "iopub.status.busy": "2020-10-14T17:01:13.116710Z",
     "iopub.status.idle": "2020-10-14T17:01:13.118908Z",
     "shell.execute_reply": "2020-10-14T17:01:13.119495Z"
    },
    "papermill": {
     "duration": 0.116305,
     "end_time": "2020-10-14T17:01:13.119634",
     "exception": false,
     "start_time": "2020-10-14T17:01:13.003329",
     "status": "completed"
    },
    "tags": []
   },
   "outputs": [],
   "source": [
    "from sklearn import svm\n",
    "C = [1,10,20,25,30,35,40,50]"
   ]
  },
  {
   "cell_type": "code",
   "execution_count": 31,
   "metadata": {
    "execution": {
     "iopub.execute_input": "2020-10-14T17:01:13.325935Z",
     "iopub.status.busy": "2020-10-14T17:01:13.325085Z",
     "iopub.status.idle": "2020-10-14T17:02:49.590392Z",
     "shell.execute_reply": "2020-10-14T17:02:49.590989Z"
    },
    "papermill": {
     "duration": 96.368864,
     "end_time": "2020-10-14T17:02:49.591155",
     "exception": false,
     "start_time": "2020-10-14T17:01:13.222291",
     "status": "completed"
    },
    "tags": []
   },
   "outputs": [
    {
     "name": "stdout",
     "output_type": "stream",
     "text": [
      "0.7413000656598818\n",
      "0.7360472751149048\n",
      "0.7353906762967827\n",
      "0.7353906762967827\n",
      "0.7353906762967827\n",
      "0.7340774786605384\n",
      "0.7347340774786605\n",
      "0.7347340774786605\n"
     ]
    }
   ],
   "source": [
    "for i in C:\n",
    "    svc = svm.SVC(kernel='linear', C=i)\n",
    "    svc.fit(x_train,y_train)\n",
    "    t=svc.score(x_test,y_test)\n",
    "    print(t)"
   ]
  },
  {
   "cell_type": "code",
   "execution_count": 32,
   "metadata": {
    "execution": {
     "iopub.execute_input": "2020-10-14T17:02:49.796043Z",
     "iopub.status.busy": "2020-10-14T17:02:49.795194Z",
     "iopub.status.idle": "2020-10-14T17:04:29.790739Z",
     "shell.execute_reply": "2020-10-14T17:04:29.791826Z"
    },
    "papermill": {
     "duration": 100.101532,
     "end_time": "2020-10-14T17:04:29.792049",
     "exception": false,
     "start_time": "2020-10-14T17:02:49.690517",
     "status": "completed"
    },
    "tags": []
   },
   "outputs": [
    {
     "name": "stdout",
     "output_type": "stream",
     "text": [
      "0.7570584372948129\n",
      "0.7386736703873933\n",
      "0.7353906762967827\n",
      "0.7334208798424163\n",
      "0.7321076822061721\n",
      "0.7307944845699278\n",
      "0.7301378857518056\n",
      "0.7314510833880499\n"
     ]
    }
   ],
   "source": [
    "for i in C:\n",
    "    svc = svm.SVC(kernel='rbf', C=i)\n",
    "    svc.fit(x_train,y_train)\n",
    "    t=svc.score(x_test,y_test)\n",
    "    print(t)"
   ]
  },
  {
   "cell_type": "code",
   "execution_count": 33,
   "metadata": {
    "execution": {
     "iopub.execute_input": "2020-10-14T17:04:30.086915Z",
     "iopub.status.busy": "2020-10-14T17:04:30.085037Z",
     "iopub.status.idle": "2020-10-14T17:04:30.087608Z",
     "shell.execute_reply": "2020-10-14T17:04:30.088106Z"
    },
    "papermill": {
     "duration": 0.14774,
     "end_time": "2020-10-14T17:04:30.088225",
     "exception": false,
     "start_time": "2020-10-14T17:04:29.940485",
     "status": "completed"
    },
    "tags": []
   },
   "outputs": [],
   "source": [
    "params={\n",
    "    \"eta\":[0.01,0.2],\n",
    "    \"min_child_weight\":[1,2,3,4,5,6,7,8,9,10],\n",
    "    \"max_depth\":[3,6,8,10,15,20,25,30],\n",
    "    \"gamma\":[0.0,0.1,0.2,0.3,0.4,0.5,0.6],\n",
    "    \"subsample\":[0.5,0.6,0.7,0.8,0.9],\n",
    "    \"colsample_bytree\":[0.6,0.7,0.8,0.8],\n",
    "    \"reg_alpha\":[0,0.001,0.005,0.01,0.05],\n",
    "    \"learning_rate\":[0.05,0.10,0.15,0.20,0.25,0.30],\n",
    "}"
   ]
  },
  {
   "cell_type": "code",
   "execution_count": 34,
   "metadata": {
    "execution": {
     "iopub.execute_input": "2020-10-14T17:04:30.308557Z",
     "iopub.status.busy": "2020-10-14T17:04:30.306489Z",
     "iopub.status.idle": "2020-10-14T17:04:30.309235Z",
     "shell.execute_reply": "2020-10-14T17:04:30.309749Z"
    },
    "papermill": {
     "duration": 0.115584,
     "end_time": "2020-10-14T17:04:30.309865",
     "exception": false,
     "start_time": "2020-10-14T17:04:30.194281",
     "status": "completed"
    },
    "tags": []
   },
   "outputs": [],
   "source": [
    "classifier=xgboost.XGBClassifier()"
   ]
  },
  {
   "cell_type": "code",
   "execution_count": 35,
   "metadata": {
    "execution": {
     "iopub.execute_input": "2020-10-14T17:04:30.551776Z",
     "iopub.status.busy": "2020-10-14T17:04:30.550725Z",
     "iopub.status.idle": "2020-10-14T17:04:30.552872Z",
     "shell.execute_reply": "2020-10-14T17:04:30.553468Z"
    },
    "papermill": {
     "duration": 0.132451,
     "end_time": "2020-10-14T17:04:30.553601",
     "exception": false,
     "start_time": "2020-10-14T17:04:30.421150",
     "status": "completed"
    },
    "tags": []
   },
   "outputs": [],
   "source": [
    "random=RandomizedSearchCV(classifier,param_distributions=params,n_iter=5,scoring=\"roc_auc\",cv=5,verbose=3)"
   ]
  },
  {
   "cell_type": "code",
   "execution_count": 36,
   "metadata": {
    "execution": {
     "iopub.execute_input": "2020-10-14T17:04:30.774967Z",
     "iopub.status.busy": "2020-10-14T17:04:30.774090Z",
     "iopub.status.idle": "2020-10-14T17:07:37.447702Z",
     "shell.execute_reply": "2020-10-14T17:07:37.448367Z"
    },
    "papermill": {
     "duration": 186.786589,
     "end_time": "2020-10-14T17:07:37.448544",
     "exception": false,
     "start_time": "2020-10-14T17:04:30.661955",
     "status": "completed"
    },
    "tags": []
   },
   "outputs": [
    {
     "name": "stdout",
     "output_type": "stream",
     "text": [
      "Fitting 5 folds for each of 5 candidates, totalling 25 fits\n"
     ]
    },
    {
     "name": "stderr",
     "output_type": "stream",
     "text": [
      "[Parallel(n_jobs=1)]: Using backend SequentialBackend with 1 concurrent workers.\n"
     ]
    },
    {
     "name": "stdout",
     "output_type": "stream",
     "text": [
      "[CV] subsample=0.5, reg_alpha=0, min_child_weight=1, max_depth=20, learning_rate=0.05, gamma=0.1, eta=0.2, colsample_bytree=0.8 \n",
      "[CV]  subsample=0.5, reg_alpha=0, min_child_weight=1, max_depth=20, learning_rate=0.05, gamma=0.1, eta=0.2, colsample_bytree=0.8, score=0.807, total=  10.0s\n"
     ]
    },
    {
     "name": "stderr",
     "output_type": "stream",
     "text": [
      "[Parallel(n_jobs=1)]: Done   1 out of   1 | elapsed:   10.0s remaining:    0.0s\n"
     ]
    },
    {
     "name": "stdout",
     "output_type": "stream",
     "text": [
      "[CV] subsample=0.5, reg_alpha=0, min_child_weight=1, max_depth=20, learning_rate=0.05, gamma=0.1, eta=0.2, colsample_bytree=0.8 \n",
      "[CV]  subsample=0.5, reg_alpha=0, min_child_weight=1, max_depth=20, learning_rate=0.05, gamma=0.1, eta=0.2, colsample_bytree=0.8, score=0.815, total=   9.6s\n"
     ]
    },
    {
     "name": "stderr",
     "output_type": "stream",
     "text": [
      "[Parallel(n_jobs=1)]: Done   2 out of   2 | elapsed:   19.6s remaining:    0.0s\n"
     ]
    },
    {
     "name": "stdout",
     "output_type": "stream",
     "text": [
      "[CV] subsample=0.5, reg_alpha=0, min_child_weight=1, max_depth=20, learning_rate=0.05, gamma=0.1, eta=0.2, colsample_bytree=0.8 \n",
      "[CV]  subsample=0.5, reg_alpha=0, min_child_weight=1, max_depth=20, learning_rate=0.05, gamma=0.1, eta=0.2, colsample_bytree=0.8, score=0.816, total=   9.2s\n",
      "[CV] subsample=0.5, reg_alpha=0, min_child_weight=1, max_depth=20, learning_rate=0.05, gamma=0.1, eta=0.2, colsample_bytree=0.8 \n",
      "[CV]  subsample=0.5, reg_alpha=0, min_child_weight=1, max_depth=20, learning_rate=0.05, gamma=0.1, eta=0.2, colsample_bytree=0.8, score=0.800, total=  11.1s\n",
      "[CV] subsample=0.5, reg_alpha=0, min_child_weight=1, max_depth=20, learning_rate=0.05, gamma=0.1, eta=0.2, colsample_bytree=0.8 \n",
      "[CV]  subsample=0.5, reg_alpha=0, min_child_weight=1, max_depth=20, learning_rate=0.05, gamma=0.1, eta=0.2, colsample_bytree=0.8, score=0.789, total=  10.1s\n",
      "[CV] subsample=0.7, reg_alpha=0.05, min_child_weight=8, max_depth=8, learning_rate=0.1, gamma=0.1, eta=0.01, colsample_bytree=0.8 \n",
      "[CV]  subsample=0.7, reg_alpha=0.05, min_child_weight=8, max_depth=8, learning_rate=0.1, gamma=0.1, eta=0.01, colsample_bytree=0.8, score=0.782, total=   4.4s\n",
      "[CV] subsample=0.7, reg_alpha=0.05, min_child_weight=8, max_depth=8, learning_rate=0.1, gamma=0.1, eta=0.01, colsample_bytree=0.8 \n",
      "[CV]  subsample=0.7, reg_alpha=0.05, min_child_weight=8, max_depth=8, learning_rate=0.1, gamma=0.1, eta=0.01, colsample_bytree=0.8, score=0.802, total=   4.1s\n",
      "[CV] subsample=0.7, reg_alpha=0.05, min_child_weight=8, max_depth=8, learning_rate=0.1, gamma=0.1, eta=0.01, colsample_bytree=0.8 \n",
      "[CV]  subsample=0.7, reg_alpha=0.05, min_child_weight=8, max_depth=8, learning_rate=0.1, gamma=0.1, eta=0.01, colsample_bytree=0.8, score=0.795, total=   4.2s\n",
      "[CV] subsample=0.7, reg_alpha=0.05, min_child_weight=8, max_depth=8, learning_rate=0.1, gamma=0.1, eta=0.01, colsample_bytree=0.8 \n",
      "[CV]  subsample=0.7, reg_alpha=0.05, min_child_weight=8, max_depth=8, learning_rate=0.1, gamma=0.1, eta=0.01, colsample_bytree=0.8, score=0.786, total=   4.9s\n",
      "[CV] subsample=0.7, reg_alpha=0.05, min_child_weight=8, max_depth=8, learning_rate=0.1, gamma=0.1, eta=0.01, colsample_bytree=0.8 \n",
      "[CV]  subsample=0.7, reg_alpha=0.05, min_child_weight=8, max_depth=8, learning_rate=0.1, gamma=0.1, eta=0.01, colsample_bytree=0.8, score=0.782, total=   3.9s\n",
      "[CV] subsample=0.6, reg_alpha=0.05, min_child_weight=10, max_depth=10, learning_rate=0.15, gamma=0.5, eta=0.01, colsample_bytree=0.8 \n",
      "[CV]  subsample=0.6, reg_alpha=0.05, min_child_weight=10, max_depth=10, learning_rate=0.15, gamma=0.5, eta=0.01, colsample_bytree=0.8, score=0.746, total=   5.6s\n",
      "[CV] subsample=0.6, reg_alpha=0.05, min_child_weight=10, max_depth=10, learning_rate=0.15, gamma=0.5, eta=0.01, colsample_bytree=0.8 \n",
      "[CV]  subsample=0.6, reg_alpha=0.05, min_child_weight=10, max_depth=10, learning_rate=0.15, gamma=0.5, eta=0.01, colsample_bytree=0.8, score=0.766, total=   4.9s\n",
      "[CV] subsample=0.6, reg_alpha=0.05, min_child_weight=10, max_depth=10, learning_rate=0.15, gamma=0.5, eta=0.01, colsample_bytree=0.8 \n",
      "[CV]  subsample=0.6, reg_alpha=0.05, min_child_weight=10, max_depth=10, learning_rate=0.15, gamma=0.5, eta=0.01, colsample_bytree=0.8, score=0.761, total=   5.5s\n",
      "[CV] subsample=0.6, reg_alpha=0.05, min_child_weight=10, max_depth=10, learning_rate=0.15, gamma=0.5, eta=0.01, colsample_bytree=0.8 \n",
      "[CV]  subsample=0.6, reg_alpha=0.05, min_child_weight=10, max_depth=10, learning_rate=0.15, gamma=0.5, eta=0.01, colsample_bytree=0.8, score=0.748, total=   4.9s\n",
      "[CV] subsample=0.6, reg_alpha=0.05, min_child_weight=10, max_depth=10, learning_rate=0.15, gamma=0.5, eta=0.01, colsample_bytree=0.8 \n",
      "[CV]  subsample=0.6, reg_alpha=0.05, min_child_weight=10, max_depth=10, learning_rate=0.15, gamma=0.5, eta=0.01, colsample_bytree=0.8, score=0.753, total=   6.5s\n",
      "[CV] subsample=0.6, reg_alpha=0.005, min_child_weight=6, max_depth=25, learning_rate=0.25, gamma=0.6, eta=0.2, colsample_bytree=0.7 \n",
      "[CV]  subsample=0.6, reg_alpha=0.005, min_child_weight=6, max_depth=25, learning_rate=0.25, gamma=0.6, eta=0.2, colsample_bytree=0.7, score=0.780, total=   9.5s\n",
      "[CV] subsample=0.6, reg_alpha=0.005, min_child_weight=6, max_depth=25, learning_rate=0.25, gamma=0.6, eta=0.2, colsample_bytree=0.7 \n",
      "[CV]  subsample=0.6, reg_alpha=0.005, min_child_weight=6, max_depth=25, learning_rate=0.25, gamma=0.6, eta=0.2, colsample_bytree=0.7, score=0.791, total=   8.7s\n",
      "[CV] subsample=0.6, reg_alpha=0.005, min_child_weight=6, max_depth=25, learning_rate=0.25, gamma=0.6, eta=0.2, colsample_bytree=0.7 \n",
      "[CV]  subsample=0.6, reg_alpha=0.005, min_child_weight=6, max_depth=25, learning_rate=0.25, gamma=0.6, eta=0.2, colsample_bytree=0.7, score=0.788, total=   9.5s\n",
      "[CV] subsample=0.6, reg_alpha=0.005, min_child_weight=6, max_depth=25, learning_rate=0.25, gamma=0.6, eta=0.2, colsample_bytree=0.7 \n",
      "[CV]  subsample=0.6, reg_alpha=0.005, min_child_weight=6, max_depth=25, learning_rate=0.25, gamma=0.6, eta=0.2, colsample_bytree=0.7, score=0.779, total=  10.0s\n",
      "[CV] subsample=0.6, reg_alpha=0.005, min_child_weight=6, max_depth=25, learning_rate=0.25, gamma=0.6, eta=0.2, colsample_bytree=0.7 \n",
      "[CV]  subsample=0.6, reg_alpha=0.005, min_child_weight=6, max_depth=25, learning_rate=0.25, gamma=0.6, eta=0.2, colsample_bytree=0.7, score=0.770, total=   9.3s\n",
      "[CV] subsample=0.6, reg_alpha=0.01, min_child_weight=2, max_depth=10, learning_rate=0.1, gamma=0.3, eta=0.2, colsample_bytree=0.8 \n",
      "[CV]  subsample=0.6, reg_alpha=0.01, min_child_weight=2, max_depth=10, learning_rate=0.1, gamma=0.3, eta=0.2, colsample_bytree=0.8, score=0.808, total=   5.6s\n",
      "[CV] subsample=0.6, reg_alpha=0.01, min_child_weight=2, max_depth=10, learning_rate=0.1, gamma=0.3, eta=0.2, colsample_bytree=0.8 \n",
      "[CV]  subsample=0.6, reg_alpha=0.01, min_child_weight=2, max_depth=10, learning_rate=0.1, gamma=0.3, eta=0.2, colsample_bytree=0.8, score=0.814, total=   5.7s\n",
      "[CV] subsample=0.6, reg_alpha=0.01, min_child_weight=2, max_depth=10, learning_rate=0.1, gamma=0.3, eta=0.2, colsample_bytree=0.8 \n",
      "[CV]  subsample=0.6, reg_alpha=0.01, min_child_weight=2, max_depth=10, learning_rate=0.1, gamma=0.3, eta=0.2, colsample_bytree=0.8, score=0.810, total=   6.8s\n",
      "[CV] subsample=0.6, reg_alpha=0.01, min_child_weight=2, max_depth=10, learning_rate=0.1, gamma=0.3, eta=0.2, colsample_bytree=0.8 \n",
      "[CV]  subsample=0.6, reg_alpha=0.01, min_child_weight=2, max_depth=10, learning_rate=0.1, gamma=0.3, eta=0.2, colsample_bytree=0.8, score=0.799, total=   5.1s\n",
      "[CV] subsample=0.6, reg_alpha=0.01, min_child_weight=2, max_depth=10, learning_rate=0.1, gamma=0.3, eta=0.2, colsample_bytree=0.8 \n",
      "[CV]  subsample=0.6, reg_alpha=0.01, min_child_weight=2, max_depth=10, learning_rate=0.1, gamma=0.3, eta=0.2, colsample_bytree=0.8, score=0.789, total=   5.4s\n"
     ]
    },
    {
     "name": "stderr",
     "output_type": "stream",
     "text": [
      "[Parallel(n_jobs=1)]: Done  25 out of  25 | elapsed:  2.9min finished\n"
     ]
    },
    {
     "data": {
      "text/plain": [
       "RandomizedSearchCV(cv=5,\n",
       "                   estimator=XGBClassifier(base_score=None, booster=None,\n",
       "                                           colsample_bylevel=None,\n",
       "                                           colsample_bynode=None,\n",
       "                                           colsample_bytree=None, gamma=None,\n",
       "                                           gpu_id=None, importance_type='gain',\n",
       "                                           interaction_constraints=None,\n",
       "                                           learning_rate=None,\n",
       "                                           max_delta_step=None, max_depth=None,\n",
       "                                           min_child_weight=None, missing=nan,\n",
       "                                           monotone_constraints=None,\n",
       "                                           n_estimators=100,...\n",
       "                                           verbosity=None),\n",
       "                   n_iter=5,\n",
       "                   param_distributions={'colsample_bytree': [0.6, 0.7, 0.8,\n",
       "                                                             0.8],\n",
       "                                        'eta': [0.01, 0.2],\n",
       "                                        'gamma': [0.0, 0.1, 0.2, 0.3, 0.4, 0.5,\n",
       "                                                  0.6],\n",
       "                                        'learning_rate': [0.05, 0.1, 0.15, 0.2,\n",
       "                                                          0.25, 0.3],\n",
       "                                        'max_depth': [3, 6, 8, 10, 15, 20, 25,\n",
       "                                                      30],\n",
       "                                        'min_child_weight': [1, 2, 3, 4, 5, 6,\n",
       "                                                             7, 8, 9, 10],\n",
       "                                        'reg_alpha': [0, 0.001, 0.005, 0.01,\n",
       "                                                      0.05],\n",
       "                                        'subsample': [0.5, 0.6, 0.7, 0.8, 0.9]},\n",
       "                   scoring='roc_auc', verbose=3)"
      ]
     },
     "execution_count": 36,
     "metadata": {},
     "output_type": "execute_result"
    }
   ],
   "source": [
    "random.fit(x_train,y_train)"
   ]
  },
  {
   "cell_type": "code",
   "execution_count": 37,
   "metadata": {
    "execution": {
     "iopub.execute_input": "2020-10-14T17:07:37.742804Z",
     "iopub.status.busy": "2020-10-14T17:07:37.741926Z",
     "iopub.status.idle": "2020-10-14T17:07:37.749951Z",
     "shell.execute_reply": "2020-10-14T17:07:37.749485Z"
    },
    "papermill": {
     "duration": 0.156453,
     "end_time": "2020-10-14T17:07:37.750054",
     "exception": false,
     "start_time": "2020-10-14T17:07:37.593601",
     "status": "completed"
    },
    "tags": []
   },
   "outputs": [
    {
     "data": {
      "text/plain": [
       "XGBClassifier(base_score=0.5, booster='gbtree', colsample_bylevel=1,\n",
       "              colsample_bynode=1, colsample_bytree=0.8, eta=0.2, gamma=0.1,\n",
       "              gpu_id=-1, importance_type='gain', interaction_constraints='',\n",
       "              learning_rate=0.05, max_delta_step=0, max_depth=20,\n",
       "              min_child_weight=1, missing=nan, monotone_constraints='()',\n",
       "              n_estimators=100, n_jobs=0, num_parallel_tree=1, random_state=0,\n",
       "              reg_alpha=0, reg_lambda=1, scale_pos_weight=1, subsample=0.5,\n",
       "              tree_method='exact', validate_parameters=1, verbosity=None)"
      ]
     },
     "execution_count": 37,
     "metadata": {},
     "output_type": "execute_result"
    }
   ],
   "source": [
    "random.best_estimator_"
   ]
  },
  {
   "cell_type": "code",
   "execution_count": 38,
   "metadata": {
    "execution": {
     "iopub.execute_input": "2020-10-14T17:07:38.048192Z",
     "iopub.status.busy": "2020-10-14T17:07:38.046229Z",
     "iopub.status.idle": "2020-10-14T17:07:38.048940Z",
     "shell.execute_reply": "2020-10-14T17:07:38.049427Z"
    },
    "papermill": {
     "duration": 0.157837,
     "end_time": "2020-10-14T17:07:38.049547",
     "exception": false,
     "start_time": "2020-10-14T17:07:37.891710",
     "status": "completed"
    },
    "tags": []
   },
   "outputs": [],
   "source": [
    "classifier=xgboost.XGBClassifier(base_score=0.5, booster='gbtree', colsample_bylevel=1,\n",
    "              colsample_bynode=1, colsample_bytree=0.8, eta=0.01, gamma=0.4,\n",
    "              gpu_id=-1, importance_type='gain', interaction_constraints='',\n",
    "              learning_rate=0.15, max_delta_step=0, max_depth=10,\n",
    "              min_child_weight=1, monotone_constraints='()',\n",
    "              n_estimators=100, n_jobs=0, num_parallel_tree=1, random_state=0,\n",
    "              reg_alpha=0.01, reg_lambda=1, scale_pos_weight=1, subsample=0.8,\n",
    "              tree_method='exact', validate_parameters=1, verbosity=None)\n",
    "\n"
   ]
  },
  {
   "cell_type": "code",
   "execution_count": 39,
   "metadata": {
    "execution": {
     "iopub.execute_input": "2020-10-14T17:07:38.340471Z",
     "iopub.status.busy": "2020-10-14T17:07:38.339338Z",
     "iopub.status.idle": "2020-10-14T17:07:44.836652Z",
     "shell.execute_reply": "2020-10-14T17:07:44.837593Z"
    },
    "papermill": {
     "duration": 6.64413,
     "end_time": "2020-10-14T17:07:44.837774",
     "exception": false,
     "start_time": "2020-10-14T17:07:38.193644",
     "status": "completed"
    },
    "tags": []
   },
   "outputs": [
    {
     "data": {
      "text/plain": [
       "0.7550886408404465"
      ]
     },
     "execution_count": 39,
     "metadata": {},
     "output_type": "execute_result"
    }
   ],
   "source": [
    "classifier.fit(x_train,y_train)\n",
    "classifier.score(x_test,y_test)"
   ]
  },
  {
   "cell_type": "code",
   "execution_count": 40,
   "metadata": {
    "execution": {
     "iopub.execute_input": "2020-10-14T17:07:45.193977Z",
     "iopub.status.busy": "2020-10-14T17:07:45.192976Z",
     "iopub.status.idle": "2020-10-14T17:07:45.320985Z",
     "shell.execute_reply": "2020-10-14T17:07:45.322322Z"
    },
    "papermill": {
     "duration": 0.294163,
     "end_time": "2020-10-14T17:07:45.322549",
     "exception": false,
     "start_time": "2020-10-14T17:07:45.028386",
     "status": "completed"
    },
    "tags": []
   },
   "outputs": [
    {
     "data": {
      "text/plain": [
       "0.747209455022981"
      ]
     },
     "execution_count": 40,
     "metadata": {},
     "output_type": "execute_result"
    }
   ],
   "source": [
    "from sklearn.linear_model import LogisticRegression\n",
    "log_clf = LogisticRegression()\n",
    "log_clf.fit(x_train,y_train)\n",
    "log_clf.score(x_test,y_test)"
   ]
  },
  {
   "cell_type": "code",
   "execution_count": 41,
   "metadata": {
    "execution": {
     "iopub.execute_input": "2020-10-14T17:07:45.803606Z",
     "iopub.status.busy": "2020-10-14T17:07:45.802634Z",
     "iopub.status.idle": "2020-10-14T17:07:45.805144Z",
     "shell.execute_reply": "2020-10-14T17:07:45.804461Z"
    },
    "papermill": {
     "duration": 0.216331,
     "end_time": "2020-10-14T17:07:45.805285",
     "exception": false,
     "start_time": "2020-10-14T17:07:45.588954",
     "status": "completed"
    },
    "tags": []
   },
   "outputs": [],
   "source": [
    "from sklearn.ensemble import VotingClassifier"
   ]
  },
  {
   "cell_type": "code",
   "execution_count": 42,
   "metadata": {
    "execution": {
     "iopub.execute_input": "2020-10-14T17:07:46.144897Z",
     "iopub.status.busy": "2020-10-14T17:07:46.143943Z",
     "iopub.status.idle": "2020-10-14T17:08:36.871892Z",
     "shell.execute_reply": "2020-10-14T17:08:36.872459Z"
    },
    "papermill": {
     "duration": 50.882698,
     "end_time": "2020-10-14T17:08:36.872631",
     "exception": false,
     "start_time": "2020-10-14T17:07:45.989933",
     "status": "completed"
    },
    "tags": []
   },
   "outputs": [
    {
     "data": {
      "text/plain": [
       "VotingClassifier(estimators=[('lr', LogisticRegression()),\n",
       "                             ('rf',\n",
       "                              RandomForestClassifier(max_leaf_nodes=100,\n",
       "                                                     n_estimators=500,\n",
       "                                                     random_state=42)),\n",
       "                             ('svc', SVC(C=1, probability=True)),\n",
       "                             ('clf', MultinomialNB())],\n",
       "                 voting='soft')"
      ]
     },
     "execution_count": 42,
     "metadata": {},
     "output_type": "execute_result"
    }
   ],
   "source": [
    "rnd_clf=RandomForestClassifier(n_estimators=500,max_leaf_nodes=100,random_state=42)\n",
    "svc = svm.SVC(kernel='rbf',probability=True, C=1)\n",
    "clf = MultinomialNB()\n",
    "voting_clf = VotingClassifier(estimators=[('lr', log_clf),('rf', rnd_clf), ('svc', svc),('clf',clf)],voting='soft')\n",
    "voting_clf.fit(x_train, y_train)\n"
   ]
  },
  {
   "cell_type": "code",
   "execution_count": 43,
   "metadata": {
    "execution": {
     "iopub.execute_input": "2020-10-14T17:08:37.176365Z",
     "iopub.status.busy": "2020-10-14T17:08:37.175408Z",
     "iopub.status.idle": "2020-10-14T17:08:39.235600Z",
     "shell.execute_reply": "2020-10-14T17:08:39.235049Z"
    },
    "papermill": {
     "duration": 2.215755,
     "end_time": "2020-10-14T17:08:39.235714",
     "exception": false,
     "start_time": "2020-10-14T17:08:37.019959",
     "status": "completed"
    },
    "tags": []
   },
   "outputs": [
    {
     "data": {
      "text/plain": [
       "0.7590282337491793"
      ]
     },
     "execution_count": 43,
     "metadata": {},
     "output_type": "execute_result"
    }
   ],
   "source": [
    "from sklearn.metrics import accuracy_score\n",
    "y_pred=voting_clf.predict(x_test)\n",
    "accuracy_score(y_pred,y_test)"
   ]
  },
  {
   "cell_type": "code",
   "execution_count": 44,
   "metadata": {
    "execution": {
     "iopub.execute_input": "2020-10-14T17:08:39.581868Z",
     "iopub.status.busy": "2020-10-14T17:08:39.561411Z",
     "iopub.status.idle": "2020-10-14T17:08:39.650631Z",
     "shell.execute_reply": "2020-10-14T17:08:39.649571Z"
    },
    "papermill": {
     "duration": 0.2666,
     "end_time": "2020-10-14T17:08:39.650783",
     "exception": false,
     "start_time": "2020-10-14T17:08:39.384183",
     "status": "completed"
    },
    "tags": []
   },
   "outputs": [],
   "source": [
    "ytt=tfidf(collecttest)"
   ]
  },
  {
   "cell_type": "code",
   "execution_count": 45,
   "metadata": {
    "execution": {
     "iopub.execute_input": "2020-10-14T17:08:39.952405Z",
     "iopub.status.busy": "2020-10-14T17:08:39.951033Z",
     "iopub.status.idle": "2020-10-14T17:08:44.322443Z",
     "shell.execute_reply": "2020-10-14T17:08:44.321827Z"
    },
    "papermill": {
     "duration": 4.522518,
     "end_time": "2020-10-14T17:08:44.322567",
     "exception": false,
     "start_time": "2020-10-14T17:08:39.800049",
     "status": "completed"
    },
    "tags": []
   },
   "outputs": [],
   "source": [
    "ttttt=voting_clf.predict(ytt)"
   ]
  },
  {
   "cell_type": "code",
   "execution_count": 46,
   "metadata": {
    "execution": {
     "iopub.execute_input": "2020-10-14T17:08:44.623852Z",
     "iopub.status.busy": "2020-10-14T17:08:44.622934Z",
     "iopub.status.idle": "2020-10-14T17:08:44.628521Z",
     "shell.execute_reply": "2020-10-14T17:08:44.627934Z"
    },
    "papermill": {
     "duration": 0.156576,
     "end_time": "2020-10-14T17:08:44.628661",
     "exception": false,
     "start_time": "2020-10-14T17:08:44.472085",
     "status": "completed"
    },
    "tags": []
   },
   "outputs": [
    {
     "data": {
      "text/plain": [
       "array([0, 0, 0, ..., 0, 0, 0])"
      ]
     },
     "execution_count": 46,
     "metadata": {},
     "output_type": "execute_result"
    }
   ],
   "source": [
    "ttttt"
   ]
  },
  {
   "cell_type": "code",
   "execution_count": 47,
   "metadata": {
    "execution": {
     "iopub.execute_input": "2020-10-14T17:08:44.934826Z",
     "iopub.status.busy": "2020-10-14T17:08:44.933798Z",
     "iopub.status.idle": "2020-10-14T17:08:44.937062Z",
     "shell.execute_reply": "2020-10-14T17:08:44.936517Z"
    },
    "papermill": {
     "duration": 0.162958,
     "end_time": "2020-10-14T17:08:44.937176",
     "exception": false,
     "start_time": "2020-10-14T17:08:44.774218",
     "status": "completed"
    },
    "tags": []
   },
   "outputs": [],
   "source": [
    "r = pd.Series(ttttt,name=\"target\")"
   ]
  },
  {
   "cell_type": "code",
   "execution_count": 48,
   "metadata": {
    "execution": {
     "iopub.execute_input": "2020-10-14T17:08:45.276078Z",
     "iopub.status.busy": "2020-10-14T17:08:45.275066Z",
     "iopub.status.idle": "2020-10-14T17:08:45.282611Z",
     "shell.execute_reply": "2020-10-14T17:08:45.281947Z"
    },
    "papermill": {
     "duration": 0.184623,
     "end_time": "2020-10-14T17:08:45.282728",
     "exception": false,
     "start_time": "2020-10-14T17:08:45.098105",
     "status": "completed"
    },
    "tags": []
   },
   "outputs": [],
   "source": [
    "sample=pd.read_csv(\"/kaggle/input/nlp-getting-started/sample_submission.csv\")"
   ]
  },
  {
   "cell_type": "code",
   "execution_count": 49,
   "metadata": {
    "execution": {
     "iopub.execute_input": "2020-10-14T17:08:45.615208Z",
     "iopub.status.busy": "2020-10-14T17:08:45.614152Z",
     "iopub.status.idle": "2020-10-14T17:08:45.619614Z",
     "shell.execute_reply": "2020-10-14T17:08:45.619069Z"
    },
    "papermill": {
     "duration": 0.17446,
     "end_time": "2020-10-14T17:08:45.619726",
     "exception": false,
     "start_time": "2020-10-14T17:08:45.445266",
     "status": "completed"
    },
    "tags": []
   },
   "outputs": [
    {
     "data": {
      "text/html": [
       "<div>\n",
       "<style scoped>\n",
       "    .dataframe tbody tr th:only-of-type {\n",
       "        vertical-align: middle;\n",
       "    }\n",
       "\n",
       "    .dataframe tbody tr th {\n",
       "        vertical-align: top;\n",
       "    }\n",
       "\n",
       "    .dataframe thead th {\n",
       "        text-align: right;\n",
       "    }\n",
       "</style>\n",
       "<table border=\"1\" class=\"dataframe\">\n",
       "  <thead>\n",
       "    <tr style=\"text-align: right;\">\n",
       "      <th></th>\n",
       "      <th>id</th>\n",
       "      <th>target</th>\n",
       "    </tr>\n",
       "  </thead>\n",
       "  <tbody>\n",
       "    <tr>\n",
       "      <th>0</th>\n",
       "      <td>0</td>\n",
       "      <td>0</td>\n",
       "    </tr>\n",
       "    <tr>\n",
       "      <th>1</th>\n",
       "      <td>2</td>\n",
       "      <td>0</td>\n",
       "    </tr>\n",
       "    <tr>\n",
       "      <th>2</th>\n",
       "      <td>3</td>\n",
       "      <td>0</td>\n",
       "    </tr>\n",
       "    <tr>\n",
       "      <th>3</th>\n",
       "      <td>9</td>\n",
       "      <td>0</td>\n",
       "    </tr>\n",
       "    <tr>\n",
       "      <th>4</th>\n",
       "      <td>11</td>\n",
       "      <td>0</td>\n",
       "    </tr>\n",
       "  </tbody>\n",
       "</table>\n",
       "</div>"
      ],
      "text/plain": [
       "   id  target\n",
       "0   0       0\n",
       "1   2       0\n",
       "2   3       0\n",
       "3   9       0\n",
       "4  11       0"
      ]
     },
     "execution_count": 49,
     "metadata": {},
     "output_type": "execute_result"
    }
   ],
   "source": [
    "sample.head()"
   ]
  },
  {
   "cell_type": "code",
   "execution_count": 50,
   "metadata": {
    "execution": {
     "iopub.execute_input": "2020-10-14T17:08:45.915774Z",
     "iopub.status.busy": "2020-10-14T17:08:45.914961Z",
     "iopub.status.idle": "2020-10-14T17:08:45.919141Z",
     "shell.execute_reply": "2020-10-14T17:08:45.918621Z"
    },
    "papermill": {
     "duration": 0.154698,
     "end_time": "2020-10-14T17:08:45.919257",
     "exception": false,
     "start_time": "2020-10-14T17:08:45.764559",
     "status": "completed"
    },
    "tags": []
   },
   "outputs": [],
   "source": [
    "t=test[\"id\"]"
   ]
  },
  {
   "cell_type": "code",
   "execution_count": 51,
   "metadata": {
    "execution": {
     "iopub.execute_input": "2020-10-14T17:08:46.237328Z",
     "iopub.status.busy": "2020-10-14T17:08:46.236385Z",
     "iopub.status.idle": "2020-10-14T17:08:46.240802Z",
     "shell.execute_reply": "2020-10-14T17:08:46.240222Z"
    },
    "papermill": {
     "duration": 0.17359,
     "end_time": "2020-10-14T17:08:46.240918",
     "exception": false,
     "start_time": "2020-10-14T17:08:46.067328",
     "status": "completed"
    },
    "tags": []
   },
   "outputs": [
    {
     "data": {
      "text/plain": [
       "0           0\n",
       "1           2\n",
       "2           3\n",
       "3           9\n",
       "4          11\n",
       "        ...  \n",
       "3258    10861\n",
       "3259    10865\n",
       "3260    10868\n",
       "3261    10874\n",
       "3262    10875\n",
       "Name: id, Length: 3263, dtype: int64"
      ]
     },
     "execution_count": 51,
     "metadata": {},
     "output_type": "execute_result"
    }
   ],
   "source": [
    "t"
   ]
  },
  {
   "cell_type": "code",
   "execution_count": 52,
   "metadata": {
    "execution": {
     "iopub.execute_input": "2020-10-14T17:08:46.601485Z",
     "iopub.status.busy": "2020-10-14T17:08:46.600536Z",
     "iopub.status.idle": "2020-10-14T17:08:46.603934Z",
     "shell.execute_reply": "2020-10-14T17:08:46.605112Z"
    },
    "papermill": {
     "duration": 0.209573,
     "end_time": "2020-10-14T17:08:46.605434",
     "exception": false,
     "start_time": "2020-10-14T17:08:46.395861",
     "status": "completed"
    },
    "tags": []
   },
   "outputs": [],
   "source": [
    "submiss = pd.concat([pd.Series(t,name = \"id\"),r],axis = 1)"
   ]
  },
  {
   "cell_type": "code",
   "execution_count": 53,
   "metadata": {
    "execution": {
     "iopub.execute_input": "2020-10-14T17:08:47.063287Z",
     "iopub.status.busy": "2020-10-14T17:08:47.062341Z",
     "iopub.status.idle": "2020-10-14T17:08:47.070448Z",
     "shell.execute_reply": "2020-10-14T17:08:47.071126Z"
    },
    "papermill": {
     "duration": 0.237049,
     "end_time": "2020-10-14T17:08:47.071318",
     "exception": false,
     "start_time": "2020-10-14T17:08:46.834269",
     "status": "completed"
    },
    "tags": []
   },
   "outputs": [
    {
     "data": {
      "text/html": [
       "<div>\n",
       "<style scoped>\n",
       "    .dataframe tbody tr th:only-of-type {\n",
       "        vertical-align: middle;\n",
       "    }\n",
       "\n",
       "    .dataframe tbody tr th {\n",
       "        vertical-align: top;\n",
       "    }\n",
       "\n",
       "    .dataframe thead th {\n",
       "        text-align: right;\n",
       "    }\n",
       "</style>\n",
       "<table border=\"1\" class=\"dataframe\">\n",
       "  <thead>\n",
       "    <tr style=\"text-align: right;\">\n",
       "      <th></th>\n",
       "      <th>id</th>\n",
       "      <th>target</th>\n",
       "    </tr>\n",
       "  </thead>\n",
       "  <tbody>\n",
       "    <tr>\n",
       "      <th>0</th>\n",
       "      <td>0</td>\n",
       "      <td>0</td>\n",
       "    </tr>\n",
       "    <tr>\n",
       "      <th>1</th>\n",
       "      <td>2</td>\n",
       "      <td>0</td>\n",
       "    </tr>\n",
       "    <tr>\n",
       "      <th>2</th>\n",
       "      <td>3</td>\n",
       "      <td>0</td>\n",
       "    </tr>\n",
       "    <tr>\n",
       "      <th>3</th>\n",
       "      <td>9</td>\n",
       "      <td>0</td>\n",
       "    </tr>\n",
       "    <tr>\n",
       "      <th>4</th>\n",
       "      <td>11</td>\n",
       "      <td>1</td>\n",
       "    </tr>\n",
       "    <tr>\n",
       "      <th>...</th>\n",
       "      <td>...</td>\n",
       "      <td>...</td>\n",
       "    </tr>\n",
       "    <tr>\n",
       "      <th>3258</th>\n",
       "      <td>10861</td>\n",
       "      <td>0</td>\n",
       "    </tr>\n",
       "    <tr>\n",
       "      <th>3259</th>\n",
       "      <td>10865</td>\n",
       "      <td>0</td>\n",
       "    </tr>\n",
       "    <tr>\n",
       "      <th>3260</th>\n",
       "      <td>10868</td>\n",
       "      <td>0</td>\n",
       "    </tr>\n",
       "    <tr>\n",
       "      <th>3261</th>\n",
       "      <td>10874</td>\n",
       "      <td>0</td>\n",
       "    </tr>\n",
       "    <tr>\n",
       "      <th>3262</th>\n",
       "      <td>10875</td>\n",
       "      <td>0</td>\n",
       "    </tr>\n",
       "  </tbody>\n",
       "</table>\n",
       "<p>3263 rows × 2 columns</p>\n",
       "</div>"
      ],
      "text/plain": [
       "         id  target\n",
       "0         0       0\n",
       "1         2       0\n",
       "2         3       0\n",
       "3         9       0\n",
       "4        11       1\n",
       "...     ...     ...\n",
       "3258  10861       0\n",
       "3259  10865       0\n",
       "3260  10868       0\n",
       "3261  10874       0\n",
       "3262  10875       0\n",
       "\n",
       "[3263 rows x 2 columns]"
      ]
     },
     "execution_count": 53,
     "metadata": {},
     "output_type": "execute_result"
    }
   ],
   "source": [
    "submiss"
   ]
  },
  {
   "cell_type": "code",
   "execution_count": 54,
   "metadata": {
    "execution": {
     "iopub.execute_input": "2020-10-14T17:08:47.494538Z",
     "iopub.status.busy": "2020-10-14T17:08:47.493152Z",
     "iopub.status.idle": "2020-10-14T17:08:47.676576Z",
     "shell.execute_reply": "2020-10-14T17:08:47.675805Z"
    },
    "papermill": {
     "duration": 0.39669,
     "end_time": "2020-10-14T17:08:47.676722",
     "exception": false,
     "start_time": "2020-10-14T17:08:47.280032",
     "status": "completed"
    },
    "tags": []
   },
   "outputs": [],
   "source": [
    "submiss.to_csv(\"disasml.csv\",index=False)"
   ]
  },
  {
   "cell_type": "markdown",
   "metadata": {
    "papermill": {
     "duration": 0.147173,
     "end_time": "2020-10-14T17:08:47.969860",
     "exception": false,
     "start_time": "2020-10-14T17:08:47.822687",
     "status": "completed"
    },
    "tags": []
   },
   "source": [
    "# GOING FORWARD WITH KERAS"
   ]
  },
  {
   "cell_type": "code",
   "execution_count": 55,
   "metadata": {
    "execution": {
     "iopub.execute_input": "2020-10-14T17:08:48.266577Z",
     "iopub.status.busy": "2020-10-14T17:08:48.265826Z",
     "iopub.status.idle": "2020-10-14T17:08:48.271556Z",
     "shell.execute_reply": "2020-10-14T17:08:48.270972Z"
    },
    "papermill": {
     "duration": 0.155397,
     "end_time": "2020-10-14T17:08:48.271656",
     "exception": false,
     "start_time": "2020-10-14T17:08:48.116259",
     "status": "completed"
    },
    "tags": []
   },
   "outputs": [
    {
     "data": {
      "text/plain": [
       "['deed the reason thi earthquak may allah forgiv us',\n",
       " 'forest fire near la rong sask canada',\n",
       " 'resid ask shelter place be notifi offic other evacu shelter place order expect',\n",
       " 'peopl receiv wildfir evacu order california',\n",
       " 'got sent photo rubi alaska smoke wildfir pour a school']"
      ]
     },
     "execution_count": 55,
     "metadata": {},
     "output_type": "execute_result"
    }
   ],
   "source": [
    "collect[:5]"
   ]
  },
  {
   "cell_type": "code",
   "execution_count": 56,
   "metadata": {
    "execution": {
     "iopub.execute_input": "2020-10-14T17:08:48.564502Z",
     "iopub.status.busy": "2020-10-14T17:08:48.563741Z",
     "iopub.status.idle": "2020-10-14T17:08:48.566818Z",
     "shell.execute_reply": "2020-10-14T17:08:48.566346Z"
    },
    "papermill": {
     "duration": 0.152245,
     "end_time": "2020-10-14T17:08:48.566912",
     "exception": false,
     "start_time": "2020-10-14T17:08:48.414667",
     "status": "completed"
    },
    "tags": []
   },
   "outputs": [],
   "source": [
    "voc_size=5000"
   ]
  },
  {
   "cell_type": "code",
   "execution_count": 57,
   "metadata": {
    "execution": {
     "iopub.execute_input": "2020-10-14T17:08:48.897233Z",
     "iopub.status.busy": "2020-10-14T17:08:48.887043Z",
     "iopub.status.idle": "2020-10-14T17:08:49.003492Z",
     "shell.execute_reply": "2020-10-14T17:08:49.002888Z"
    },
    "papermill": {
     "duration": 0.290108,
     "end_time": "2020-10-14T17:08:49.003612",
     "exception": false,
     "start_time": "2020-10-14T17:08:48.713504",
     "status": "completed"
    },
    "tags": []
   },
   "outputs": [],
   "source": [
    "oneh=[]\n",
    "for i in collect:\n",
    "    t=one_hot(i,voc_size)\n",
    "    oneh.append(t)"
   ]
  },
  {
   "cell_type": "code",
   "execution_count": 58,
   "metadata": {
    "execution": {
     "iopub.execute_input": "2020-10-14T17:08:49.343981Z",
     "iopub.status.busy": "2020-10-14T17:08:49.309999Z",
     "iopub.status.idle": "2020-10-14T17:08:49.404073Z",
     "shell.execute_reply": "2020-10-14T17:08:49.403363Z"
    },
    "papermill": {
     "duration": 0.249734,
     "end_time": "2020-10-14T17:08:49.404210",
     "exception": false,
     "start_time": "2020-10-14T17:08:49.154476",
     "status": "completed"
    },
    "tags": []
   },
   "outputs": [
    {
     "name": "stdout",
     "output_type": "stream",
     "text": [
      "[[   0    0    0 ... 4311 3805 4590]\n",
      " [   0    0    0 ... 3850 4181 2245]\n",
      " [   0    0    0 ... 3725 3171 3356]\n",
      " ...\n",
      " [   0    0    0 ... 1723 4313 2367]\n",
      " [   0    0    0 ...  541 3956 2669]\n",
      " [   0    0    0 ... 1723 1933 4465]]\n"
     ]
    }
   ],
   "source": [
    "sent_length=30\n",
    "embedded=pad_sequences(oneh,padding='pre',maxlen=sent_length)\n",
    "print(embedded)"
   ]
  },
  {
   "cell_type": "code",
   "execution_count": 59,
   "metadata": {
    "execution": {
     "iopub.execute_input": "2020-10-14T17:08:49.707128Z",
     "iopub.status.busy": "2020-10-14T17:08:49.706342Z",
     "iopub.status.idle": "2020-10-14T17:08:49.710679Z",
     "shell.execute_reply": "2020-10-14T17:08:49.709997Z"
    },
    "papermill": {
     "duration": 0.158713,
     "end_time": "2020-10-14T17:08:49.710827",
     "exception": false,
     "start_time": "2020-10-14T17:08:49.552114",
     "status": "completed"
    },
    "tags": []
   },
   "outputs": [
    {
     "data": {
      "text/plain": [
       "array([[   0,    0,    0, ..., 4311, 3805, 4590],\n",
       "       [   0,    0,    0, ..., 3850, 4181, 2245],\n",
       "       [   0,    0,    0, ..., 3725, 3171, 3356],\n",
       "       ...,\n",
       "       [   0,    0,    0, ..., 1723, 4313, 2367],\n",
       "       [   0,    0,    0, ...,  541, 3956, 2669],\n",
       "       [   0,    0,    0, ..., 1723, 1933, 4465]], dtype=int32)"
      ]
     },
     "execution_count": 59,
     "metadata": {},
     "output_type": "execute_result"
    }
   ],
   "source": [
    "embedded"
   ]
  },
  {
   "cell_type": "code",
   "execution_count": 60,
   "metadata": {
    "execution": {
     "iopub.execute_input": "2020-10-14T17:08:50.018743Z",
     "iopub.status.busy": "2020-10-14T17:08:50.017890Z",
     "iopub.status.idle": "2020-10-14T17:08:50.021300Z",
     "shell.execute_reply": "2020-10-14T17:08:50.021842Z"
    },
    "papermill": {
     "duration": 0.161888,
     "end_time": "2020-10-14T17:08:50.021976",
     "exception": false,
     "start_time": "2020-10-14T17:08:49.860088",
     "status": "completed"
    },
    "tags": []
   },
   "outputs": [
    {
     "data": {
      "text/plain": [
       "array([   0,    0,    0,    0,    0,    0,    0,    0,    0,    0,    0,\n",
       "          0,    0,    0,    0,    0,    0,    0,    0,    0,    0,   78,\n",
       "        175, 4213, 1967, 4534, 2417, 4311, 3805, 4590], dtype=int32)"
      ]
     },
     "execution_count": 60,
     "metadata": {},
     "output_type": "execute_result"
    }
   ],
   "source": [
    "\n",
    "embedded[0]"
   ]
  },
  {
   "cell_type": "code",
   "execution_count": 61,
   "metadata": {
    "execution": {
     "iopub.execute_input": "2020-10-14T17:08:50.338993Z",
     "iopub.status.busy": "2020-10-14T17:08:50.337015Z",
     "iopub.status.idle": "2020-10-14T17:08:53.099913Z",
     "shell.execute_reply": "2020-10-14T17:08:53.099324Z"
    },
    "papermill": {
     "duration": 2.92676,
     "end_time": "2020-10-14T17:08:53.100034",
     "exception": false,
     "start_time": "2020-10-14T17:08:50.173274",
     "status": "completed"
    },
    "tags": []
   },
   "outputs": [],
   "source": [
    "embedding_vector_features=40\n",
    "model=Sequential()\n",
    "model.add(Embedding(voc_size,embedding_vector_features,input_length=sent_length))\n",
    "model.add(SpatialDropout1D(0.4))\n",
    "model.add(Bidirectional(LSTM(100,activation=\"relu\",return_sequences=True)))\n",
    "model.add(Dropout(0.1))\n",
    "model.add(LSTM(100,activation=\"relu\",return_sequences=True))\n",
    "model.add(Dropout(0.1))\n",
    "model.add(LSTM(100,activation=\"relu\",return_sequences=True))\n",
    "model.add(Dropout(0.1))\n",
    "model.add(LSTM(100,activation=\"relu\"))\n",
    "model.add(Dropout(0.1))\n",
    "model.add(Dense(1,activation='sigmoid'))\n",
    "model.compile(loss='binary_crossentropy',optimizer='adam',metrics=['accuracy'])"
   ]
  },
  {
   "cell_type": "code",
   "execution_count": 62,
   "metadata": {
    "execution": {
     "iopub.execute_input": "2020-10-14T17:08:53.418750Z",
     "iopub.status.busy": "2020-10-14T17:08:53.417744Z",
     "iopub.status.idle": "2020-10-14T17:08:53.420976Z",
     "shell.execute_reply": "2020-10-14T17:08:53.421524Z"
    },
    "papermill": {
     "duration": 0.170193,
     "end_time": "2020-10-14T17:08:53.421689",
     "exception": false,
     "start_time": "2020-10-14T17:08:53.251496",
     "status": "completed"
    },
    "tags": []
   },
   "outputs": [
    {
     "data": {
      "text/plain": [
       "array([1, 1, 1, ..., 1, 1, 1])"
      ]
     },
     "execution_count": 62,
     "metadata": {},
     "output_type": "execute_result"
    }
   ],
   "source": [
    "val"
   ]
  },
  {
   "cell_type": "code",
   "execution_count": 63,
   "metadata": {
    "execution": {
     "iopub.execute_input": "2020-10-14T17:08:53.729428Z",
     "iopub.status.busy": "2020-10-14T17:08:53.728541Z",
     "iopub.status.idle": "2020-10-14T17:08:53.731123Z",
     "shell.execute_reply": "2020-10-14T17:08:53.731691Z"
    },
    "papermill": {
     "duration": 0.161541,
     "end_time": "2020-10-14T17:08:53.731815",
     "exception": false,
     "start_time": "2020-10-14T17:08:53.570274",
     "status": "completed"
    },
    "tags": []
   },
   "outputs": [],
   "source": [
    "emoneh=np.array(embedded)"
   ]
  },
  {
   "cell_type": "code",
   "execution_count": 64,
   "metadata": {
    "execution": {
     "iopub.execute_input": "2020-10-14T17:08:54.047607Z",
     "iopub.status.busy": "2020-10-14T17:08:54.046477Z",
     "iopub.status.idle": "2020-10-14T17:08:54.049771Z",
     "shell.execute_reply": "2020-10-14T17:08:54.050293Z"
    },
    "papermill": {
     "duration": 0.167807,
     "end_time": "2020-10-14T17:08:54.050417",
     "exception": false,
     "start_time": "2020-10-14T17:08:53.882610",
     "status": "completed"
    },
    "tags": []
   },
   "outputs": [
    {
     "data": {
      "text/plain": [
       "7613"
      ]
     },
     "execution_count": 64,
     "metadata": {},
     "output_type": "execute_result"
    }
   ],
   "source": [
    "len(emoneh)"
   ]
  },
  {
   "cell_type": "code",
   "execution_count": 65,
   "metadata": {
    "execution": {
     "iopub.execute_input": "2020-10-14T17:08:54.367899Z",
     "iopub.status.busy": "2020-10-14T17:08:54.367003Z",
     "iopub.status.idle": "2020-10-14T17:08:54.372113Z",
     "shell.execute_reply": "2020-10-14T17:08:54.371648Z"
    },
    "papermill": {
     "duration": 0.163233,
     "end_time": "2020-10-14T17:08:54.372217",
     "exception": false,
     "start_time": "2020-10-14T17:08:54.208984",
     "status": "completed"
    },
    "tags": []
   },
   "outputs": [],
   "source": [
    "\n",
    "from sklearn.model_selection import train_test_split\n",
    "X_train, X_test, y_train, y_test = train_test_split(emoneh,val, test_size=0.33, random_state=42)\n"
   ]
  },
  {
   "cell_type": "code",
   "execution_count": 66,
   "metadata": {
    "execution": {
     "iopub.execute_input": "2020-10-14T17:08:54.683164Z",
     "iopub.status.busy": "2020-10-14T17:08:54.682482Z",
     "iopub.status.idle": "2020-10-14T17:12:25.544470Z",
     "shell.execute_reply": "2020-10-14T17:12:25.543883Z"
    },
    "papermill": {
     "duration": 211.020554,
     "end_time": "2020-10-14T17:12:25.544582",
     "exception": false,
     "start_time": "2020-10-14T17:08:54.524028",
     "status": "completed"
    },
    "tags": []
   },
   "outputs": [
    {
     "name": "stdout",
     "output_type": "stream",
     "text": [
      "Epoch 1/10\n",
      "80/80 - 22s - loss: 0.6554 - accuracy: 0.5976 - val_loss: 0.5628 - val_accuracy: 0.7390\n",
      "Epoch 2/10\n",
      "80/80 - 19s - loss: 0.4527 - accuracy: 0.8057 - val_loss: 0.4686 - val_accuracy: 0.7931\n",
      "Epoch 3/10\n",
      "80/80 - 20s - loss: 0.3304 - accuracy: 0.8676 - val_loss: 0.4880 - val_accuracy: 0.7835\n",
      "Epoch 4/10\n",
      "80/80 - 21s - loss: 0.2669 - accuracy: 0.8973 - val_loss: 0.5436 - val_accuracy: 0.7768\n",
      "Epoch 5/10\n",
      "80/80 - 19s - loss: 0.2239 - accuracy: 0.9161 - val_loss: 0.6304 - val_accuracy: 0.7644\n",
      "Epoch 6/10\n",
      "80/80 - 20s - loss: 0.2602 - accuracy: 0.9275 - val_loss: 0.5620 - val_accuracy: 0.7644\n",
      "Epoch 7/10\n",
      "80/80 - 21s - loss: 0.1703 - accuracy: 0.9408 - val_loss: 0.8249 - val_accuracy: 0.7449\n",
      "Epoch 8/10\n",
      "80/80 - 20s - loss: 0.1177 - accuracy: 0.9580 - val_loss: 0.8924 - val_accuracy: 0.7437\n",
      "Epoch 9/10\n",
      "80/80 - 20s - loss: 1228.4928 - accuracy: 0.9610 - val_loss: 1.0930 - val_accuracy: 0.7461\n",
      "Epoch 10/10\n",
      "80/80 - 21s - loss: 0.0980 - accuracy: 0.9635 - val_loss: 1.1373 - val_accuracy: 0.7529\n"
     ]
    },
    {
     "data": {
      "text/plain": [
       "<tensorflow.python.keras.callbacks.History at 0x7fe62002a790>"
      ]
     },
     "execution_count": 66,
     "metadata": {},
     "output_type": "execute_result"
    }
   ],
   "source": [
    "model.fit(X_train,y_train,validation_data=(X_test,y_test),epochs=10,batch_size=64,verbose=2)"
   ]
  },
  {
   "cell_type": "code",
   "execution_count": 67,
   "metadata": {
    "execution": {
     "iopub.execute_input": "2020-10-14T17:12:25.884567Z",
     "iopub.status.busy": "2020-10-14T17:12:25.883623Z",
     "iopub.status.idle": "2020-10-14T17:12:27.879100Z",
     "shell.execute_reply": "2020-10-14T17:12:27.877945Z"
    },
    "papermill": {
     "duration": 2.170066,
     "end_time": "2020-10-14T17:12:27.879265",
     "exception": false,
     "start_time": "2020-10-14T17:12:25.709199",
     "status": "completed"
    },
    "tags": []
   },
   "outputs": [],
   "source": [
    "y_pred=model.predict_classes(X_test)\n"
   ]
  },
  {
   "cell_type": "code",
   "execution_count": 68,
   "metadata": {
    "execution": {
     "iopub.execute_input": "2020-10-14T17:12:28.221141Z",
     "iopub.status.busy": "2020-10-14T17:12:28.220024Z",
     "iopub.status.idle": "2020-10-14T17:12:28.225702Z",
     "shell.execute_reply": "2020-10-14T17:12:28.225153Z"
    },
    "papermill": {
     "duration": 0.176806,
     "end_time": "2020-10-14T17:12:28.225808",
     "exception": false,
     "start_time": "2020-10-14T17:12:28.049002",
     "status": "completed"
    },
    "tags": []
   },
   "outputs": [
    {
     "data": {
      "text/plain": [
       "array([[0],\n",
       "       [0],\n",
       "       [0],\n",
       "       ...,\n",
       "       [1],\n",
       "       [0],\n",
       "       [0]], dtype=int32)"
      ]
     },
     "execution_count": 68,
     "metadata": {},
     "output_type": "execute_result"
    }
   ],
   "source": [
    "y_pred"
   ]
  },
  {
   "cell_type": "code",
   "execution_count": 69,
   "metadata": {
    "execution": {
     "iopub.execute_input": "2020-10-14T17:12:28.584383Z",
     "iopub.status.busy": "2020-10-14T17:12:28.583715Z",
     "iopub.status.idle": "2020-10-14T17:12:28.589522Z",
     "shell.execute_reply": "2020-10-14T17:12:28.588897Z"
    },
    "papermill": {
     "duration": 0.197722,
     "end_time": "2020-10-14T17:12:28.589624",
     "exception": false,
     "start_time": "2020-10-14T17:12:28.391902",
     "status": "completed"
    },
    "tags": []
   },
   "outputs": [
    {
     "data": {
      "text/plain": [
       "array([[0],\n",
       "       [0],\n",
       "       [0],\n",
       "       ...,\n",
       "       [1],\n",
       "       [0],\n",
       "       [0]], dtype=int32)"
      ]
     },
     "execution_count": 69,
     "metadata": {},
     "output_type": "execute_result"
    }
   ],
   "source": [
    "y_pred"
   ]
  },
  {
   "cell_type": "code",
   "execution_count": 70,
   "metadata": {
    "execution": {
     "iopub.execute_input": "2020-10-14T17:12:28.933392Z",
     "iopub.status.busy": "2020-10-14T17:12:28.932397Z",
     "iopub.status.idle": "2020-10-14T17:12:28.935068Z",
     "shell.execute_reply": "2020-10-14T17:12:28.935613Z"
    },
    "papermill": {
     "duration": 0.177966,
     "end_time": "2020-10-14T17:12:28.935742",
     "exception": false,
     "start_time": "2020-10-14T17:12:28.757776",
     "status": "completed"
    },
    "tags": []
   },
   "outputs": [],
   "source": [
    "from sklearn.metrics import confusion_matrix"
   ]
  },
  {
   "cell_type": "code",
   "execution_count": 71,
   "metadata": {
    "execution": {
     "iopub.execute_input": "2020-10-14T17:12:29.276659Z",
     "iopub.status.busy": "2020-10-14T17:12:29.275879Z",
     "iopub.status.idle": "2020-10-14T17:12:29.286214Z",
     "shell.execute_reply": "2020-10-14T17:12:29.286775Z"
    },
    "papermill": {
     "duration": 0.180601,
     "end_time": "2020-10-14T17:12:29.286901",
     "exception": false,
     "start_time": "2020-10-14T17:12:29.106300",
     "status": "completed"
    },
    "tags": []
   },
   "outputs": [
    {
     "data": {
      "text/plain": [
       "array([[1259,  187],\n",
       "       [ 434,  633]])"
      ]
     },
     "execution_count": 71,
     "metadata": {},
     "output_type": "execute_result"
    }
   ],
   "source": [
    "confusion_matrix(y_test,y_pred)"
   ]
  },
  {
   "cell_type": "code",
   "execution_count": 72,
   "metadata": {
    "execution": {
     "iopub.execute_input": "2020-10-14T17:12:29.633139Z",
     "iopub.status.busy": "2020-10-14T17:12:29.631833Z",
     "iopub.status.idle": "2020-10-14T17:12:29.638033Z",
     "shell.execute_reply": "2020-10-14T17:12:29.637573Z"
    },
    "papermill": {
     "duration": 0.180482,
     "end_time": "2020-10-14T17:12:29.638130",
     "exception": false,
     "start_time": "2020-10-14T17:12:29.457648",
     "status": "completed"
    },
    "tags": []
   },
   "outputs": [
    {
     "data": {
      "text/plain": [
       "0.7528849980103463"
      ]
     },
     "execution_count": 72,
     "metadata": {},
     "output_type": "execute_result"
    }
   ],
   "source": [
    "from sklearn.metrics import accuracy_score\n",
    "accuracy_score(y_test,y_pred)"
   ]
  },
  {
   "cell_type": "code",
   "execution_count": 73,
   "metadata": {
    "execution": {
     "iopub.execute_input": "2020-10-14T17:12:30.000448Z",
     "iopub.status.busy": "2020-10-14T17:12:29.990206Z",
     "iopub.status.idle": "2020-10-14T17:12:30.040848Z",
     "shell.execute_reply": "2020-10-14T17:12:30.040339Z"
    },
    "papermill": {
     "duration": 0.235664,
     "end_time": "2020-10-14T17:12:30.040970",
     "exception": false,
     "start_time": "2020-10-14T17:12:29.805306",
     "status": "completed"
    },
    "tags": []
   },
   "outputs": [],
   "source": [
    "oneht=[]\n",
    "for i in collecttest:\n",
    "    t=one_hot(i,voc_size)\n",
    "    oneht.append(t)"
   ]
  },
  {
   "cell_type": "code",
   "execution_count": 74,
   "metadata": {
    "execution": {
     "iopub.execute_input": "2020-10-14T17:12:30.583327Z",
     "iopub.status.busy": "2020-10-14T17:12:30.563203Z",
     "iopub.status.idle": "2020-10-14T17:12:30.600120Z",
     "shell.execute_reply": "2020-10-14T17:12:30.600618Z"
    },
    "papermill": {
     "duration": 0.311847,
     "end_time": "2020-10-14T17:12:30.600761",
     "exception": false,
     "start_time": "2020-10-14T17:12:30.288914",
     "status": "completed"
    },
    "tags": []
   },
   "outputs": [],
   "source": [
    "embedd=pad_sequences(oneht,padding='pre',maxlen=sent_length)"
   ]
  },
  {
   "cell_type": "code",
   "execution_count": 75,
   "metadata": {
    "execution": {
     "iopub.execute_input": "2020-10-14T17:12:31.099118Z",
     "iopub.status.busy": "2020-10-14T17:12:31.098069Z",
     "iopub.status.idle": "2020-10-14T17:12:31.100689Z",
     "shell.execute_reply": "2020-10-14T17:12:31.099951Z"
    },
    "papermill": {
     "duration": 0.257025,
     "end_time": "2020-10-14T17:12:31.100815",
     "exception": false,
     "start_time": "2020-10-14T17:12:30.843790",
     "status": "completed"
    },
    "tags": []
   },
   "outputs": [],
   "source": [
    "emoneht=np.array(embedd)"
   ]
  },
  {
   "cell_type": "code",
   "execution_count": 76,
   "metadata": {
    "execution": {
     "iopub.execute_input": "2020-10-14T17:12:31.652516Z",
     "iopub.status.busy": "2020-10-14T17:12:31.651593Z",
     "iopub.status.idle": "2020-10-14T17:12:31.656860Z",
     "shell.execute_reply": "2020-10-14T17:12:31.657583Z"
    },
    "papermill": {
     "duration": 0.269387,
     "end_time": "2020-10-14T17:12:31.657774",
     "exception": false,
     "start_time": "2020-10-14T17:12:31.388387",
     "status": "completed"
    },
    "tags": []
   },
   "outputs": [
    {
     "data": {
      "text/plain": [
       "array([[   0,    0,    0, ..., 4171,  331,  373],\n",
       "       [   0,    0,    0, ..., 4366, 3570, 2479],\n",
       "       [   0,    0,    0, ..., 1806, 4714, 2216],\n",
       "       ...,\n",
       "       [   0,    0,    0, ..., 2966, 1723, 4868],\n",
       "       [   0,    0,    0, ..., 1723,  167,  331],\n",
       "       [   0,    0,    0, ..., 3230, 2520, 3640]], dtype=int32)"
      ]
     },
     "execution_count": 76,
     "metadata": {},
     "output_type": "execute_result"
    }
   ],
   "source": [
    "emoneht"
   ]
  },
  {
   "cell_type": "code",
   "execution_count": 77,
   "metadata": {
    "execution": {
     "iopub.execute_input": "2020-10-14T17:12:32.091875Z",
     "iopub.status.busy": "2020-10-14T17:12:32.090933Z",
     "iopub.status.idle": "2020-10-14T17:12:33.874964Z",
     "shell.execute_reply": "2020-10-14T17:12:33.873768Z"
    },
    "papermill": {
     "duration": 1.97519,
     "end_time": "2020-10-14T17:12:33.875080",
     "exception": false,
     "start_time": "2020-10-14T17:12:31.899890",
     "status": "completed"
    },
    "tags": []
   },
   "outputs": [],
   "source": [
    "ans=model.predict(emoneht)"
   ]
  },
  {
   "cell_type": "code",
   "execution_count": 78,
   "metadata": {
    "execution": {
     "iopub.execute_input": "2020-10-14T17:12:34.229449Z",
     "iopub.status.busy": "2020-10-14T17:12:34.227968Z",
     "iopub.status.idle": "2020-10-14T17:12:34.230133Z",
     "shell.execute_reply": "2020-10-14T17:12:34.230623Z"
    },
    "papermill": {
     "duration": 0.178434,
     "end_time": "2020-10-14T17:12:34.230743",
     "exception": false,
     "start_time": "2020-10-14T17:12:34.052309",
     "status": "completed"
    },
    "tags": []
   },
   "outputs": [],
   "source": [
    "pred=ans.flatten()"
   ]
  },
  {
   "cell_type": "code",
   "execution_count": 79,
   "metadata": {
    "execution": {
     "iopub.execute_input": "2020-10-14T17:12:34.576334Z",
     "iopub.status.busy": "2020-10-14T17:12:34.575644Z",
     "iopub.status.idle": "2020-10-14T17:12:34.581625Z",
     "shell.execute_reply": "2020-10-14T17:12:34.581057Z"
    },
    "papermill": {
     "duration": 0.182106,
     "end_time": "2020-10-14T17:12:34.581725",
     "exception": false,
     "start_time": "2020-10-14T17:12:34.399619",
     "status": "completed"
    },
    "tags": []
   },
   "outputs": [
    {
     "data": {
      "text/plain": [
       "3263"
      ]
     },
     "execution_count": 79,
     "metadata": {},
     "output_type": "execute_result"
    }
   ],
   "source": [
    "len(pred)"
   ]
  },
  {
   "cell_type": "code",
   "execution_count": 80,
   "metadata": {
    "execution": {
     "iopub.execute_input": "2020-10-14T17:12:34.937893Z",
     "iopub.status.busy": "2020-10-14T17:12:34.931759Z",
     "iopub.status.idle": "2020-10-14T17:12:34.940537Z",
     "shell.execute_reply": "2020-10-14T17:12:34.940016Z"
    },
    "papermill": {
     "duration": 0.1872,
     "end_time": "2020-10-14T17:12:34.940643",
     "exception": false,
     "start_time": "2020-10-14T17:12:34.753443",
     "status": "completed"
    },
    "tags": []
   },
   "outputs": [],
   "source": [
    "for i in range(3263):\n",
    "    pred[i]=round(pred[i])"
   ]
  },
  {
   "cell_type": "code",
   "execution_count": 81,
   "metadata": {
    "execution": {
     "iopub.execute_input": "2020-10-14T17:12:35.296617Z",
     "iopub.status.busy": "2020-10-14T17:12:35.295739Z",
     "iopub.status.idle": "2020-10-14T17:12:35.299756Z",
     "shell.execute_reply": "2020-10-14T17:12:35.300309Z"
    },
    "papermill": {
     "duration": 0.187339,
     "end_time": "2020-10-14T17:12:35.300440",
     "exception": false,
     "start_time": "2020-10-14T17:12:35.113101",
     "status": "completed"
    },
    "tags": []
   },
   "outputs": [
    {
     "data": {
      "text/plain": [
       "array([0., 1., 1., ..., 0., 1., 0.], dtype=float32)"
      ]
     },
     "execution_count": 81,
     "metadata": {},
     "output_type": "execute_result"
    }
   ],
   "source": [
    "pred"
   ]
  },
  {
   "cell_type": "code",
   "execution_count": 82,
   "metadata": {
    "execution": {
     "iopub.execute_input": "2020-10-14T17:12:35.677002Z",
     "iopub.status.busy": "2020-10-14T17:12:35.675538Z",
     "iopub.status.idle": "2020-10-14T17:12:35.678032Z",
     "shell.execute_reply": "2020-10-14T17:12:35.678662Z"
    },
    "papermill": {
     "duration": 0.180598,
     "end_time": "2020-10-14T17:12:35.678804",
     "exception": false,
     "start_time": "2020-10-14T17:12:35.498206",
     "status": "completed"
    },
    "tags": []
   },
   "outputs": [],
   "source": [
    "r = pd.Series(pred,name=\"target\")"
   ]
  },
  {
   "cell_type": "code",
   "execution_count": 83,
   "metadata": {
    "execution": {
     "iopub.execute_input": "2020-10-14T17:12:36.035895Z",
     "iopub.status.busy": "2020-10-14T17:12:36.035046Z",
     "iopub.status.idle": "2020-10-14T17:12:36.038555Z",
     "shell.execute_reply": "2020-10-14T17:12:36.039146Z"
    },
    "papermill": {
     "duration": 0.185683,
     "end_time": "2020-10-14T17:12:36.039313",
     "exception": false,
     "start_time": "2020-10-14T17:12:35.853630",
     "status": "completed"
    },
    "tags": []
   },
   "outputs": [
    {
     "data": {
      "text/plain": [
       "0       0.0\n",
       "1       1.0\n",
       "2       1.0\n",
       "3       0.0\n",
       "4       1.0\n",
       "       ... \n",
       "3258    1.0\n",
       "3259    1.0\n",
       "3260    0.0\n",
       "3261    1.0\n",
       "3262    0.0\n",
       "Name: target, Length: 3263, dtype: float32"
      ]
     },
     "execution_count": 83,
     "metadata": {},
     "output_type": "execute_result"
    }
   ],
   "source": [
    "r"
   ]
  },
  {
   "cell_type": "code",
   "execution_count": 84,
   "metadata": {
    "execution": {
     "iopub.execute_input": "2020-10-14T17:12:36.393358Z",
     "iopub.status.busy": "2020-10-14T17:12:36.392469Z",
     "iopub.status.idle": "2020-10-14T17:12:36.395145Z",
     "shell.execute_reply": "2020-10-14T17:12:36.395708Z"
    },
    "papermill": {
     "duration": 0.178806,
     "end_time": "2020-10-14T17:12:36.395844",
     "exception": false,
     "start_time": "2020-10-14T17:12:36.217038",
     "status": "completed"
    },
    "tags": []
   },
   "outputs": [],
   "source": [
    "t=test[\"id\"]"
   ]
  },
  {
   "cell_type": "code",
   "execution_count": 85,
   "metadata": {
    "execution": {
     "iopub.execute_input": "2020-10-14T17:12:36.751367Z",
     "iopub.status.busy": "2020-10-14T17:12:36.750515Z",
     "iopub.status.idle": "2020-10-14T17:12:36.753819Z",
     "shell.execute_reply": "2020-10-14T17:12:36.754316Z"
    },
    "papermill": {
     "duration": 0.183271,
     "end_time": "2020-10-14T17:12:36.754440",
     "exception": false,
     "start_time": "2020-10-14T17:12:36.571169",
     "status": "completed"
    },
    "tags": []
   },
   "outputs": [
    {
     "data": {
      "text/plain": [
       "0           0\n",
       "1           2\n",
       "2           3\n",
       "3           9\n",
       "4          11\n",
       "        ...  \n",
       "3258    10861\n",
       "3259    10865\n",
       "3260    10868\n",
       "3261    10874\n",
       "3262    10875\n",
       "Name: id, Length: 3263, dtype: int64"
      ]
     },
     "execution_count": 85,
     "metadata": {},
     "output_type": "execute_result"
    }
   ],
   "source": [
    "t"
   ]
  },
  {
   "cell_type": "code",
   "execution_count": 86,
   "metadata": {
    "execution": {
     "iopub.execute_input": "2020-10-14T17:12:37.110726Z",
     "iopub.status.busy": "2020-10-14T17:12:37.109796Z",
     "iopub.status.idle": "2020-10-14T17:12:37.112984Z",
     "shell.execute_reply": "2020-10-14T17:12:37.112514Z"
    },
    "papermill": {
     "duration": 0.185628,
     "end_time": "2020-10-14T17:12:37.113083",
     "exception": false,
     "start_time": "2020-10-14T17:12:36.927455",
     "status": "completed"
    },
    "tags": []
   },
   "outputs": [],
   "source": [
    "submiss = pd.concat([pd.Series(t,name = \"id\"),r],axis = 1)"
   ]
  },
  {
   "cell_type": "code",
   "execution_count": 87,
   "metadata": {
    "execution": {
     "iopub.execute_input": "2020-10-14T17:12:37.469641Z",
     "iopub.status.busy": "2020-10-14T17:12:37.468704Z",
     "iopub.status.idle": "2020-10-14T17:12:37.482187Z",
     "shell.execute_reply": "2020-10-14T17:12:37.481662Z"
    },
    "papermill": {
     "duration": 0.195964,
     "end_time": "2020-10-14T17:12:37.482366",
     "exception": false,
     "start_time": "2020-10-14T17:12:37.286402",
     "status": "completed"
    },
    "tags": []
   },
   "outputs": [],
   "source": [
    "submiss.to_csv(\"disaskeras.csv\",index=False)"
   ]
  }
 ],
 "metadata": {
  "kernelspec": {
   "display_name": "Python 3",
   "language": "python",
   "name": "python3"
  },
  "language_info": {
   "codemirror_mode": {
    "name": "ipython",
    "version": 3
   },
   "file_extension": ".py",
   "mimetype": "text/x-python",
   "name": "python",
   "nbconvert_exporter": "python",
   "pygments_lexer": "ipython3",
   "version": "3.7.6"
  },
  "papermill": {
   "duration": 940.564436,
   "end_time": "2020-10-14T17:12:39.018348",
   "environment_variables": {},
   "exception": null,
   "input_path": "__notebook__.ipynb",
   "output_path": "__notebook__.ipynb",
   "parameters": {},
   "start_time": "2020-10-14T16:56:58.453912",
   "version": "2.1.0"
  }
 },
 "nbformat": 4,
 "nbformat_minor": 4
}
